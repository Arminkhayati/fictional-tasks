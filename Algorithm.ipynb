{
 "cells": [
  {
   "cell_type": "code",
   "execution_count": 4,
   "metadata": {
    "colab": {
     "base_uri": "https://localhost:8080/"
    },
    "id": "8c3af191",
    "outputId": "4e2e62e6-3829-462b-e86f-fba87fd022bd",
    "ExecuteTime": {
     "end_time": "2024-06-13T12:57:48.041632400Z",
     "start_time": "2024-06-13T12:57:47.489631600Z"
    }
   },
   "outputs": [],
   "source": [
    "import os\n",
    "import time\n",
    "import torch\n",
    "import torchtuples as tt\n",
    "import numpy as np\n",
    "import easydict\n",
    "import pandas as pd\n",
    "\n",
    "from sklearn import preprocessing\n",
    "from sklearn.preprocessing import StandardScaler\n",
    "from sklearn_pandas import DataFrameMapper\n",
    "from sklearn.model_selection import StratifiedKFold\n"
   ],
   "id": "8c3af191"
  },
  {
   "cell_type": "code",
   "execution_count": 5,
   "metadata": {
    "id": "9a471981",
    "colab": {
     "base_uri": "https://localhost:8080/"
    },
    "outputId": "4f9d4ab2-20ac-454f-e665-bb63bfa8f6ae",
    "ExecuteTime": {
     "end_time": "2024-06-13T12:57:48.060633300Z",
     "start_time": "2024-06-13T12:57:48.043631900Z"
    }
   },
   "outputs": [],
   "source": [
    "from sklearn.preprocessing import StandardScaler\n",
    "from sklearn_pandas import DataFrameMapper\n",
    "from sklearn.model_selection import StratifiedKFold\n"
   ],
   "id": "9a471981"
  },
  {
   "cell_type": "code",
   "execution_count": 6,
   "metadata": {
    "id": "JrqUaXCEB9w2",
    "ExecuteTime": {
     "end_time": "2024-06-13T12:57:48.079631100Z",
     "start_time": "2024-06-13T12:57:48.057631300Z"
    }
   },
   "outputs": [],
   "source": [
    "import os\n",
    "import time\n",
    "import torch\n",
    "import torchtuples as tt\n",
    "import numpy as np\n",
    "import easydict\n",
    "import pandas as pd\n",
    "\n",
    "from sklearn import preprocessing\n",
    "from sklearn.preprocessing import StandardScaler\n",
    "from sklearn_pandas import DataFrameMapper\n",
    "from sklearn.model_selection import StratifiedKFold"
   ],
   "id": "JrqUaXCEB9w2"
  },
  {
   "cell_type": "markdown",
   "metadata": {
    "id": "JAU6heO9PiCv"
   },
   "source": [
    "## Data Preprocessing"
   ],
   "id": "JAU6heO9PiCv"
  },
  {
   "cell_type": "code",
   "execution_count": 7,
   "metadata": {
    "colab": {
     "base_uri": "https://localhost:8080/",
     "height": 73
    },
    "id": "6448cbb7",
    "outputId": "5e6bffa3-edfa-483a-bbfe-4746b3fbdca5",
    "ExecuteTime": {
     "end_time": "2024-06-13T12:57:48.422631600Z",
     "start_time": "2024-06-13T12:57:48.406630600Z"
    }
   },
   "outputs": [],
   "source": [
    "# from google.colab import files\n",
    "# uploaded = files.upload()"
   ],
   "id": "6448cbb7"
  },
  {
   "cell_type": "code",
   "execution_count": 8,
   "metadata": {
    "id": "jZYs6SZ14CJ5",
    "ExecuteTime": {
     "end_time": "2024-06-13T12:57:48.743631Z",
     "start_time": "2024-06-13T12:57:48.693630700Z"
    }
   },
   "outputs": [],
   "source": [
    "df = pd.read_csv('Dataset/processdata.csv', encoding='latin-1')\n",
    "data = df"
   ],
   "id": "jZYs6SZ14CJ5"
  },
  {
   "cell_type": "code",
   "execution_count": 9,
   "metadata": {
    "id": "7H9WeP7SFMk0",
    "ExecuteTime": {
     "end_time": "2024-06-13T12:57:48.914630600Z",
     "start_time": "2024-06-13T12:57:48.886631400Z"
    }
   },
   "outputs": [],
   "source": [
    "date_columns = ['Date.of.Last.Contact', 'Date.of.Diagnostic']\n",
    "data[date_columns] = data[date_columns].apply(pd.to_datetime, errors='coerce')\n",
    "has_na = data[date_columns].isna().any(axis=1)\n",
    "\n",
    "# My comment: why not death time - contact time?\n",
    "if has_na.any():\n",
    "#     max_last_contact_date = data['Date.of.Last.Contact'].max()\n",
    "#     data['Survival_Time'] = (max_last_contact_date - data['Date.of.Diagnostic']).dt.days\n",
    "    data['Survival_Time'] = (data['Date.of.Last.Contact'] - data['Date.of.Diagnostic']).dt.days\n",
    "else:\n",
    "    data['Survival_Time'] = (data['Date.of.Last.Contact'] - data['Date.of.Diagnostic']).dt.days"
   ],
   "id": "7H9WeP7SFMk0"
  },
  {
   "cell_type": "code",
   "execution_count": 10,
   "metadata": {
    "id": "A7dCYNuBPzMG",
    "ExecuteTime": {
     "end_time": "2024-06-13T12:57:49.116630600Z",
     "start_time": "2024-06-13T12:57:49.087630900Z"
    }
   },
   "outputs": [],
   "source": [
    "data['indicater'] = np.where(data['Date.of.Death'].isna(), 0, 1)\n",
    "columns_to_drop = ['Date.of.Death', 'Date.of.Last.Contact', 'Date.of.Diagnostic']\n",
    "\n",
    "\n",
    "data.drop(columns=columns_to_drop, inplace=True)"
   ],
   "id": "A7dCYNuBPzMG"
  },
  {
   "cell_type": "code",
   "execution_count": 11,
   "metadata": {
    "id": "UZ7nNMT_UfyE",
    "colab": {
     "base_uri": "https://localhost:8080/"
    },
    "outputId": "550fba36-914b-4ccd-844d-dd2b14d2b8ad",
    "ExecuteTime": {
     "end_time": "2024-06-13T12:57:49.369630700Z",
     "start_time": "2024-06-13T12:57:49.283632300Z"
    }
   },
   "outputs": [
    {
     "name": "stdout",
     "output_type": "stream",
     "text": [
      "   Gender       Age  Indicator.of.Rare.Case  Survival_Time  indicater  \\\n",
      "0       1  0.283019                       0              0          1   \n",
      "1       1  0.490566                       0              0          1   \n",
      "2       1  0.698113                       0              0          1   \n",
      "3       1  0.556604                       0              0          1   \n",
      "4       0  0.122642                       0           3959          0   \n",
      "\n",
      "   RCBP.Name_RCBP BELO HORIZONTE  RCBP.Name_RCBP CAMPINAS-UNICAMP  \\\n",
      "0                          False                             True   \n",
      "1                          False                             True   \n",
      "2                          False                             True   \n",
      "3                          False                             True   \n",
      "4                          False                             True   \n",
      "\n",
      "   RCBP.Name_RCBP DISTRITO FEDERAL  RCBP.Name_RCBP DRS BARRETOS  \\\n",
      "0                            False                        False   \n",
      "1                            False                        False   \n",
      "2                            False                        False   \n",
      "3                            False                        False   \n",
      "4                            False                        False   \n",
      "\n",
      "   RCBP.Name_RCBP FORTALEZA  ...  Diagnostic.means_PESQUISA  \\\n",
      "0                     False  ...                      False   \n",
      "1                     False  ...                      False   \n",
      "2                     False  ...                      False   \n",
      "3                     False  ...                      False   \n",
      "4                     False  ...                      False   \n",
      "\n",
      "   Diagnostic.means_SDO  Diagnostic.means_other  Extension_IN SITU  \\\n",
      "0                  True                   False              False   \n",
      "1                  True                   False              False   \n",
      "2                  True                   False              False   \n",
      "3                  True                   False              False   \n",
      "4                 False                   False              False   \n",
      "\n",
      "   Extension_LOCALIZADO  Extension_MET?STASE  Extension_N?O SE APLICA  \\\n",
      "0                 False                 True                    False   \n",
      "1                 False                 True                    False   \n",
      "2                 False                False                     True   \n",
      "3                 False                 True                    False   \n",
      "4                 False                False                     True   \n",
      "\n",
      "   Type.of.Death_C?NCER  Type.of.Death_N?O C?NCER  Type.of.Death_other  \n",
      "0                  True                     False                False  \n",
      "1                  True                     False                False  \n",
      "2                  True                     False                False  \n",
      "3                  True                     False                False  \n",
      "4                 False                     False                 True  \n",
      "\n",
      "[5 rows x 140 columns]\n"
     ]
    }
   ],
   "source": [
    "import pandas as pd\n",
    "from sklearn.preprocessing import OneHotEncoder, LabelBinarizer, MinMaxScaler\n",
    "\n",
    "\n",
    "columns_to_one_hot = ['RCBP.Name', 'Raca.Color', 'State.Civil', 'Code.Profession', 'Name.Occupation', 'Status.Address',\n",
    "                      'City.Address', 'Description.of.Topography', 'Topography.Code', 'Morphology.Description',\n",
    "                      'Code.of.Morphology', 'Description.of.Disease', 'Illness.Code', 'Diagnostic.means', 'Extension',\n",
    "                      'Type.of.Death']\n",
    "\n",
    "# Replace other values that are not in top 9, into \"other\"\n",
    "for column in columns_to_one_hot:\n",
    "    top_9_values = data[column].value_counts().nlargest(9).index\n",
    "    data[column] = data[column].where(data[column].isin(top_9_values), 'other')\n",
    "\n",
    "data = pd.get_dummies(data, columns=columns_to_one_hot)\n",
    "\n",
    "columns_to_binarize = ['Gender', 'Indicator.of.Rare.Case']\n",
    "\n",
    "lb = LabelBinarizer()\n",
    "for column in columns_to_binarize:\n",
    "    data[column] = lb.fit_transform(data[column])\n",
    "\n",
    "scaler = MinMaxScaler()\n",
    "data['Age'] = scaler.fit_transform(data[['Age']])\n",
    "\n",
    "\n",
    "print(data.head())\n"
   ],
   "id": "UZ7nNMT_UfyE"
  },
  {
   "cell_type": "code",
   "execution_count": 12,
   "metadata": {
    "id": "aZV7BiLMQvCb",
    "colab": {
     "base_uri": "https://localhost:8080/",
     "height": 290
    },
    "outputId": "667522cc-68cc-4e07-8e0b-8d3368dacf18",
    "ExecuteTime": {
     "end_time": "2024-06-13T12:57:49.512630700Z",
     "start_time": "2024-06-13T12:57:49.479630600Z"
    }
   },
   "outputs": [
    {
     "data": {
      "text/plain": "   Gender       Age  Indicator.of.Rare.Case  Survival_Time  indicater  \\\n0       1  0.283019                       0              0          1   \n1       1  0.490566                       0              0          1   \n2       1  0.698113                       0              0          1   \n3       1  0.556604                       0              0          1   \n4       0  0.122642                       0           3959          0   \n\n   RCBP.Name_RCBP BELO HORIZONTE  RCBP.Name_RCBP CAMPINAS-UNICAMP  \\\n0                          False                             True   \n1                          False                             True   \n2                          False                             True   \n3                          False                             True   \n4                          False                             True   \n\n   RCBP.Name_RCBP DISTRITO FEDERAL  RCBP.Name_RCBP DRS BARRETOS  \\\n0                            False                        False   \n1                            False                        False   \n2                            False                        False   \n3                            False                        False   \n4                            False                        False   \n\n   RCBP.Name_RCBP FORTALEZA  ...  Diagnostic.means_PESQUISA  \\\n0                     False  ...                      False   \n1                     False  ...                      False   \n2                     False  ...                      False   \n3                     False  ...                      False   \n4                     False  ...                      False   \n\n   Diagnostic.means_SDO  Diagnostic.means_other  Extension_IN SITU  \\\n0                  True                   False              False   \n1                  True                   False              False   \n2                  True                   False              False   \n3                  True                   False              False   \n4                 False                   False              False   \n\n   Extension_LOCALIZADO  Extension_MET?STASE  Extension_N?O SE APLICA  \\\n0                 False                 True                    False   \n1                 False                 True                    False   \n2                 False                False                     True   \n3                 False                 True                    False   \n4                 False                False                     True   \n\n   Type.of.Death_C?NCER  Type.of.Death_N?O C?NCER  Type.of.Death_other  \n0                  True                     False                False  \n1                  True                     False                False  \n2                  True                     False                False  \n3                  True                     False                False  \n4                 False                     False                 True  \n\n[5 rows x 140 columns]",
      "text/html": "<div>\n<style scoped>\n    .dataframe tbody tr th:only-of-type {\n        vertical-align: middle;\n    }\n\n    .dataframe tbody tr th {\n        vertical-align: top;\n    }\n\n    .dataframe thead th {\n        text-align: right;\n    }\n</style>\n<table border=\"1\" class=\"dataframe\">\n  <thead>\n    <tr style=\"text-align: right;\">\n      <th></th>\n      <th>Gender</th>\n      <th>Age</th>\n      <th>Indicator.of.Rare.Case</th>\n      <th>Survival_Time</th>\n      <th>indicater</th>\n      <th>RCBP.Name_RCBP BELO HORIZONTE</th>\n      <th>RCBP.Name_RCBP CAMPINAS-UNICAMP</th>\n      <th>RCBP.Name_RCBP DISTRITO FEDERAL</th>\n      <th>RCBP.Name_RCBP DRS BARRETOS</th>\n      <th>RCBP.Name_RCBP FORTALEZA</th>\n      <th>...</th>\n      <th>Diagnostic.means_PESQUISA</th>\n      <th>Diagnostic.means_SDO</th>\n      <th>Diagnostic.means_other</th>\n      <th>Extension_IN SITU</th>\n      <th>Extension_LOCALIZADO</th>\n      <th>Extension_MET?STASE</th>\n      <th>Extension_N?O SE APLICA</th>\n      <th>Type.of.Death_C?NCER</th>\n      <th>Type.of.Death_N?O C?NCER</th>\n      <th>Type.of.Death_other</th>\n    </tr>\n  </thead>\n  <tbody>\n    <tr>\n      <th>0</th>\n      <td>1</td>\n      <td>0.283019</td>\n      <td>0</td>\n      <td>0</td>\n      <td>1</td>\n      <td>False</td>\n      <td>True</td>\n      <td>False</td>\n      <td>False</td>\n      <td>False</td>\n      <td>...</td>\n      <td>False</td>\n      <td>True</td>\n      <td>False</td>\n      <td>False</td>\n      <td>False</td>\n      <td>True</td>\n      <td>False</td>\n      <td>True</td>\n      <td>False</td>\n      <td>False</td>\n    </tr>\n    <tr>\n      <th>1</th>\n      <td>1</td>\n      <td>0.490566</td>\n      <td>0</td>\n      <td>0</td>\n      <td>1</td>\n      <td>False</td>\n      <td>True</td>\n      <td>False</td>\n      <td>False</td>\n      <td>False</td>\n      <td>...</td>\n      <td>False</td>\n      <td>True</td>\n      <td>False</td>\n      <td>False</td>\n      <td>False</td>\n      <td>True</td>\n      <td>False</td>\n      <td>True</td>\n      <td>False</td>\n      <td>False</td>\n    </tr>\n    <tr>\n      <th>2</th>\n      <td>1</td>\n      <td>0.698113</td>\n      <td>0</td>\n      <td>0</td>\n      <td>1</td>\n      <td>False</td>\n      <td>True</td>\n      <td>False</td>\n      <td>False</td>\n      <td>False</td>\n      <td>...</td>\n      <td>False</td>\n      <td>True</td>\n      <td>False</td>\n      <td>False</td>\n      <td>False</td>\n      <td>False</td>\n      <td>True</td>\n      <td>True</td>\n      <td>False</td>\n      <td>False</td>\n    </tr>\n    <tr>\n      <th>3</th>\n      <td>1</td>\n      <td>0.556604</td>\n      <td>0</td>\n      <td>0</td>\n      <td>1</td>\n      <td>False</td>\n      <td>True</td>\n      <td>False</td>\n      <td>False</td>\n      <td>False</td>\n      <td>...</td>\n      <td>False</td>\n      <td>True</td>\n      <td>False</td>\n      <td>False</td>\n      <td>False</td>\n      <td>True</td>\n      <td>False</td>\n      <td>True</td>\n      <td>False</td>\n      <td>False</td>\n    </tr>\n    <tr>\n      <th>4</th>\n      <td>0</td>\n      <td>0.122642</td>\n      <td>0</td>\n      <td>3959</td>\n      <td>0</td>\n      <td>False</td>\n      <td>True</td>\n      <td>False</td>\n      <td>False</td>\n      <td>False</td>\n      <td>...</td>\n      <td>False</td>\n      <td>False</td>\n      <td>False</td>\n      <td>False</td>\n      <td>False</td>\n      <td>False</td>\n      <td>True</td>\n      <td>False</td>\n      <td>False</td>\n      <td>True</td>\n    </tr>\n  </tbody>\n</table>\n<p>5 rows × 140 columns</p>\n</div>"
     },
     "execution_count": 12,
     "metadata": {},
     "output_type": "execute_result"
    }
   ],
   "source": [
    "data.head()"
   ],
   "id": "aZV7BiLMQvCb"
  },
  {
   "cell_type": "code",
   "execution_count": 13,
   "metadata": {
    "id": "fgyQVohDEYL0",
    "colab": {
     "base_uri": "https://localhost:8080/"
    },
    "outputId": "a91b2da3-3ca8-44b5-9343-8f2cfc82de62",
    "ExecuteTime": {
     "end_time": "2024-06-13T12:57:49.733631100Z",
     "start_time": "2024-06-13T12:57:49.691630600Z"
    }
   },
   "outputs": [
    {
     "name": "stdout",
     "output_type": "stream",
     "text": [
      "['Gender', 'Age', 'Indicator.of.Rare.Case', 'Survival_Time', 'indicater', 'RCBP.Name_RCBP BELO HORIZONTE', 'RCBP.Name_RCBP CAMPINAS-UNICAMP', 'RCBP.Name_RCBP DISTRITO FEDERAL', 'RCBP.Name_RCBP DRS BARRETOS', 'RCBP.Name_RCBP FORTALEZA', 'RCBP.Name_RCBP MANAUS', 'RCBP.Name_RCBP MATO GROSSO (INTERIOR)', 'RCBP.Name_RCBP NATAL', 'RCBP.Name_RCBP PORTO ALEGRE', 'RCBP.Name_other', 'Raca.Color_AMARELA', 'Raca.Color_BRANCO', 'Raca.Color_IND?GENA', 'Raca.Color_PARDA', 'Raca.Color_PRETA', 'Raca.Color_other', 'State.Civil_CASADO', 'State.Civil_SEPARADO JUDICIALMENTE', 'State.Civil_SOLTEIRO', 'State.Civil_UNI?O CONSENSUAL', 'State.Civil_VI?VO', 'State.Civil_other', 'Code.Profession_0.0', 'Code.Profession_111.0', 'Code.Profession_141.0', 'Code.Profession_512.0', 'Code.Profession_514.0', 'Code.Profession_516.0', 'Code.Profession_622.0', 'Code.Profession_715.0', 'Code.Profession_782.0', 'Code.Profession_other', 'Name.Occupation_CONDUTORES DE VE?CULOS E OPERADORES DE EQUIPAMENTOS DE ELEVA??O E DE MOVIMENTA??O DE CARGAS   \\t', 'Name.Occupation_GERENTES DE PRODU??O E OPERA??ES  \\t', 'Name.Occupation_MEMBROS SUPERIORES DO PODER LEGISLATIVO, EXECUTIVO E JUDICI?RIO   \\t', 'Name.Occupation_SEM INFORMA??O\\t', 'Name.Occupation_TRABALHADORES AGR?COLAS   \\t', 'Name.Occupation_TRABALHADORES DA CONSTRU??O CIVIL E OBRAS P?BLICAS\\t', 'Name.Occupation_TRABALHADORES DOS SERVI?OS DOM?STICOS EM GERAL\\t', 'Name.Occupation_TRABALHADORES NOS SERVI?OS DE ADMINISTRA??O, CONSERVA??O E MANUTEN??O DE EDIF?CIOS E LOGRADOUROS  \\t', 'Name.Occupation_TRABALHADORES NOS SERVI?OS DE EMBELEZAMENTO E CUIDADOS PESSOAIS   \\t', 'Name.Occupation_other', 'Status.Address_AMAZONAS', 'Status.Address_CEAR?', 'Status.Address_DISTRITO FEDERAL', 'Status.Address_MATO GROSSO ', 'Status.Address_MINAS GERAIS', 'Status.Address_RIO DE JANEIRO', 'Status.Address_RIO GRANDE DO NORTE', 'Status.Address_RIO GRANDE DO SUL', 'Status.Address_S?O PAULO', 'Status.Address_other', 'City.Address_BARRETOS', 'City.Address_BEBEDOURO', 'City.Address_BRAS?LIA', 'City.Address_CAMPINAS', 'City.Address_COLINA', 'City.Address_GUA?RA', 'City.Address_MONTE AZUL PAULISTA', 'City.Address_OL?MPIA', 'City.Address_VIRADOURO', 'City.Address_other', 'Description.of.Topography_COLO DO UTERO, SOE', 'Description.of.Topography_ESTOMAGO, SOE', 'Description.of.Topography_LOCALIZACAO PRIMARIA DESCONHECIDA, SOE', 'Description.of.Topography_MAMA , SOE', 'Description.of.Topography_MEDULA OSSEA', 'Description.of.Topography_PELE DE OUTRAS PARTES DA FACE', 'Description.of.Topography_PELE DO MEMBRO SUPERIOR E DO OMBRO', 'Description.of.Topography_PROSTATA, SOE', 'Description.of.Topography_PULMAO, SOE', 'Description.of.Topography_other', 'Topography.Code_C169', 'Topography.Code_C349', 'Topography.Code_C421', 'Topography.Code_C443', 'Topography.Code_C446', 'Topography.Code_C509', 'Topography.Code_C539', 'Topography.Code_C619', 'Topography.Code_C809', 'Topography.Code_other', 'Morphology.Description_ADENOCARCINOMA TUBULAR', 'Morphology.Description_ADENOCARCINOMA, SOE', 'Morphology.Description_CARCINOMA BASO CELULAR, SOE', 'Morphology.Description_CARCINOMA BASOCELULAR, SOE', 'Morphology.Description_CARCINOMA DE CELULAS ESCAMOSAS, SOE', 'Morphology.Description_CARCINOMA DUCTAL INFILTRANTE', 'Morphology.Description_CARCINOMA ESCAMOCELULAR, SOE', 'Morphology.Description_NEOPLASIA MALIGNA', 'Morphology.Description_NEOPLASMA MALIGNO', 'Morphology.Description_other', 'Code.of.Morphology_80003', 'Code.of.Morphology_80703', 'Code.of.Morphology_80903', 'Code.of.Morphology_81403', 'Code.of.Morphology_82113', 'Code.of.Morphology_85003', 'Code.of.Morphology_95903', 'Code.of.Morphology_97323', 'Code.of.Morphology_98613', 'Code.of.Morphology_other', 'Description.of.Disease_BRONQUIOS OU PULMOES, SOE', 'Description.of.Disease_COLO DO UTERO, SOE', 'Description.of.Disease_ESTOMAGO, SOE', 'Description.of.Disease_LOCALIZACAO PRIMARIA DESCONHECIDA', 'Description.of.Disease_MAMA , SOE', 'Description.of.Disease_PELE DE OUTRAS PARTES DA FACE', 'Description.of.Disease_PELE DO MEMBRO SUPERIOR E DO OMBRO', 'Description.of.Disease_PELE DO TRONCO', 'Description.of.Disease_PROSTATA', 'Description.of.Disease_other', 'Illness.Code_C169', 'Illness.Code_C349', 'Illness.Code_C443', 'Illness.Code_C445', 'Illness.Code_C446', 'Illness.Code_C509', 'Illness.Code_C61', 'Illness.Code_C80', 'Illness.Code_C859', 'Illness.Code_other', 'Diagnostic.means_CITOLOGIA', 'Diagnostic.means_CL?NICO', 'Diagnostic.means_HISTOLOGIA DO TUMOR PRIM?RIO', 'Diagnostic.means_PESQUISA', 'Diagnostic.means_SDO', 'Diagnostic.means_other', 'Extension_IN SITU', 'Extension_LOCALIZADO', 'Extension_MET?STASE', 'Extension_N?O SE APLICA', 'Type.of.Death_C?NCER', 'Type.of.Death_N?O C?NCER', 'Type.of.Death_other']\n"
     ]
    }
   ],
   "source": [
    "print(list(data.columns))"
   ],
   "id": "fgyQVohDEYL0"
  },
  {
   "cell_type": "code",
   "execution_count": 14,
   "metadata": {
    "id": "7b3fce97",
    "ExecuteTime": {
     "end_time": "2024-06-13T12:57:49.907630500Z",
     "start_time": "2024-06-13T12:57:49.862632800Z"
    }
   },
   "outputs": [],
   "source": [
    "# change the batch size from 1024 to 3222 to improve the performance\n",
    "# created by Xinyu modified by Jingyan\n",
    "args = easydict.EasyDict({\n",
    "    \"batch_size\": 2048,\n",
    "    \"cuda\": True, # should set it to be true when using gpu, otherwise data would be on two devices\n",
    "    \"lr\": 0.05,\n",
    "    \"seed\": 1111,\n",
    "    \"reduce_rate\": 0.95,\n",
    "    \"epochs\": 200,\n",
    "    \"clip\": 5.0,\n",
    "    \"log_interval\":10,\n",
    "})"
   ],
   "id": "7b3fce97"
  },
  {
   "cell_type": "code",
   "execution_count": 15,
   "metadata": {
    "id": "f889f402",
    "ExecuteTime": {
     "end_time": "2024-06-13T12:57:50.083630500Z",
     "start_time": "2024-06-13T12:57:50.079631200Z"
    }
   },
   "outputs": [],
   "source": [
    "def cycle(iterable):\n",
    "    while True:\n",
    "        for x in iterable:\n",
    "            yield x"
   ],
   "id": "f889f402"
  },
  {
   "cell_type": "code",
   "execution_count": 16,
   "metadata": {
    "id": "448c8d7b",
    "ExecuteTime": {
     "end_time": "2024-06-13T12:57:50.361630800Z",
     "start_time": "2024-06-13T12:57:50.296630600Z"
    }
   },
   "outputs": [],
   "source": [
    "device = torch.device(\"cuda\" if args.cuda else \"cpu\")\n",
    "dtype = torch.FloatTensor\n",
    "if torch.cuda.is_available() and args.cuda:\n",
    "    dtype = torch.cuda.FloatTensor\n",
    "\n",
    "np.random.seed(1234)\n",
    "_ = torch.manual_seed(123)"
   ],
   "id": "448c8d7b"
  },
  {
   "cell_type": "code",
   "execution_count": 17,
   "metadata": {
    "id": "ZXMsPbpMfDDF",
    "colab": {
     "base_uri": "https://localhost:8080/"
    },
    "outputId": "45c913c0-ea22-4e4d-91b9-67e06760452a",
    "ExecuteTime": {
     "end_time": "2024-06-13T12:57:50.554630500Z",
     "start_time": "2024-06-13T12:57:50.527631600Z"
    }
   },
   "outputs": [
    {
     "name": "stdout",
     "output_type": "stream",
     "text": [
      "cuda\n"
     ]
    }
   ],
   "source": [
    "print(device)"
   ],
   "id": "ZXMsPbpMfDDF"
  },
  {
   "cell_type": "code",
   "execution_count": 18,
   "metadata": {
    "id": "2bfcd0f4",
    "ExecuteTime": {
     "end_time": "2024-06-13T12:57:50.761631900Z",
     "start_time": "2024-06-13T12:57:50.728632500Z"
    }
   },
   "outputs": [],
   "source": [
    "from sklearn import preprocessing"
   ],
   "id": "2bfcd0f4"
  },
  {
   "cell_type": "code",
   "execution_count": 19,
   "metadata": {
    "id": "IwnjqGYYiR_6",
    "colab": {
     "base_uri": "https://localhost:8080/",
     "height": 478
    },
    "outputId": "68b94577-1c92-4f43-96d1-d33a21425104",
    "ExecuteTime": {
     "end_time": "2024-06-13T12:57:50.961631500Z",
     "start_time": "2024-06-13T12:57:50.933633Z"
    }
   },
   "outputs": [
    {
     "data": {
      "text/plain": "       Gender       Age  Indicator.of.Rare.Case  Survival_Time  indicater  \\\n0           1  0.283019                       0              0          1   \n1           1  0.490566                       0              0          1   \n2           1  0.698113                       0              0          1   \n3           1  0.556604                       0              0          1   \n5           0  0.754717                       0              0          1   \n...       ...       ...                     ...            ...        ...   \n14750       0  0.613208                       0           1475          1   \n14751       1  0.528302                       0           1302          1   \n14752       1  0.122642                       0            936          1   \n14753       1  0.773585                       0            420          1   \n14754       0  0.811321                       0            379          1   \n\n       RCBP.Name_RCBP BELO HORIZONTE  RCBP.Name_RCBP CAMPINAS-UNICAMP  \\\n0                              False                             True   \n1                              False                             True   \n2                              False                             True   \n3                              False                             True   \n5                              False                             True   \n...                              ...                              ...   \n14750                          False                            False   \n14751                          False                            False   \n14752                          False                            False   \n14753                          False                            False   \n14754                          False                            False   \n\n       RCBP.Name_RCBP DISTRITO FEDERAL  RCBP.Name_RCBP DRS BARRETOS  \\\n0                                False                        False   \n1                                False                        False   \n2                                False                        False   \n3                                False                        False   \n5                                False                        False   \n...                                ...                          ...   \n14750                            False                        False   \n14751                            False                        False   \n14752                            False                        False   \n14753                            False                        False   \n14754                            False                        False   \n\n       RCBP.Name_RCBP FORTALEZA  ...  Diagnostic.means_PESQUISA  \\\n0                         False  ...                      False   \n1                         False  ...                      False   \n2                         False  ...                      False   \n3                         False  ...                      False   \n5                         False  ...                      False   \n...                         ...  ...                        ...   \n14750                     False  ...                      False   \n14751                     False  ...                      False   \n14752                     False  ...                      False   \n14753                     False  ...                      False   \n14754                     False  ...                      False   \n\n       Diagnostic.means_SDO  Diagnostic.means_other  Extension_IN SITU  \\\n0                      True                   False              False   \n1                      True                   False              False   \n2                      True                   False              False   \n3                      True                   False              False   \n5                      True                   False              False   \n...                     ...                     ...                ...   \n14750                 False                   False              False   \n14751                 False                   False              False   \n14752                 False                   False              False   \n14753                 False                   False              False   \n14754                 False                   False              False   \n\n       Extension_LOCALIZADO  Extension_MET?STASE  Extension_N?O SE APLICA  \\\n0                     False                 True                    False   \n1                     False                 True                    False   \n2                     False                False                     True   \n3                     False                 True                    False   \n5                     False                False                     True   \n...                     ...                  ...                      ...   \n14750                 False                False                     True   \n14751                 False                False                     True   \n14752                 False                 True                    False   \n14753                 False                 True                    False   \n14754                 False                 True                    False   \n\n       Type.of.Death_C?NCER  Type.of.Death_N?O C?NCER  Type.of.Death_other  \n0                      True                     False                False  \n1                      True                     False                False  \n2                      True                     False                False  \n3                      True                     False                False  \n5                      True                     False                False  \n...                     ...                       ...                  ...  \n14750                  True                     False                False  \n14751                  True                     False                False  \n14752                  True                     False                False  \n14753                  True                     False                False  \n14754                  True                     False                False  \n\n[10210 rows x 140 columns]",
      "text/html": "<div>\n<style scoped>\n    .dataframe tbody tr th:only-of-type {\n        vertical-align: middle;\n    }\n\n    .dataframe tbody tr th {\n        vertical-align: top;\n    }\n\n    .dataframe thead th {\n        text-align: right;\n    }\n</style>\n<table border=\"1\" class=\"dataframe\">\n  <thead>\n    <tr style=\"text-align: right;\">\n      <th></th>\n      <th>Gender</th>\n      <th>Age</th>\n      <th>Indicator.of.Rare.Case</th>\n      <th>Survival_Time</th>\n      <th>indicater</th>\n      <th>RCBP.Name_RCBP BELO HORIZONTE</th>\n      <th>RCBP.Name_RCBP CAMPINAS-UNICAMP</th>\n      <th>RCBP.Name_RCBP DISTRITO FEDERAL</th>\n      <th>RCBP.Name_RCBP DRS BARRETOS</th>\n      <th>RCBP.Name_RCBP FORTALEZA</th>\n      <th>...</th>\n      <th>Diagnostic.means_PESQUISA</th>\n      <th>Diagnostic.means_SDO</th>\n      <th>Diagnostic.means_other</th>\n      <th>Extension_IN SITU</th>\n      <th>Extension_LOCALIZADO</th>\n      <th>Extension_MET?STASE</th>\n      <th>Extension_N?O SE APLICA</th>\n      <th>Type.of.Death_C?NCER</th>\n      <th>Type.of.Death_N?O C?NCER</th>\n      <th>Type.of.Death_other</th>\n    </tr>\n  </thead>\n  <tbody>\n    <tr>\n      <th>0</th>\n      <td>1</td>\n      <td>0.283019</td>\n      <td>0</td>\n      <td>0</td>\n      <td>1</td>\n      <td>False</td>\n      <td>True</td>\n      <td>False</td>\n      <td>False</td>\n      <td>False</td>\n      <td>...</td>\n      <td>False</td>\n      <td>True</td>\n      <td>False</td>\n      <td>False</td>\n      <td>False</td>\n      <td>True</td>\n      <td>False</td>\n      <td>True</td>\n      <td>False</td>\n      <td>False</td>\n    </tr>\n    <tr>\n      <th>1</th>\n      <td>1</td>\n      <td>0.490566</td>\n      <td>0</td>\n      <td>0</td>\n      <td>1</td>\n      <td>False</td>\n      <td>True</td>\n      <td>False</td>\n      <td>False</td>\n      <td>False</td>\n      <td>...</td>\n      <td>False</td>\n      <td>True</td>\n      <td>False</td>\n      <td>False</td>\n      <td>False</td>\n      <td>True</td>\n      <td>False</td>\n      <td>True</td>\n      <td>False</td>\n      <td>False</td>\n    </tr>\n    <tr>\n      <th>2</th>\n      <td>1</td>\n      <td>0.698113</td>\n      <td>0</td>\n      <td>0</td>\n      <td>1</td>\n      <td>False</td>\n      <td>True</td>\n      <td>False</td>\n      <td>False</td>\n      <td>False</td>\n      <td>...</td>\n      <td>False</td>\n      <td>True</td>\n      <td>False</td>\n      <td>False</td>\n      <td>False</td>\n      <td>False</td>\n      <td>True</td>\n      <td>True</td>\n      <td>False</td>\n      <td>False</td>\n    </tr>\n    <tr>\n      <th>3</th>\n      <td>1</td>\n      <td>0.556604</td>\n      <td>0</td>\n      <td>0</td>\n      <td>1</td>\n      <td>False</td>\n      <td>True</td>\n      <td>False</td>\n      <td>False</td>\n      <td>False</td>\n      <td>...</td>\n      <td>False</td>\n      <td>True</td>\n      <td>False</td>\n      <td>False</td>\n      <td>False</td>\n      <td>True</td>\n      <td>False</td>\n      <td>True</td>\n      <td>False</td>\n      <td>False</td>\n    </tr>\n    <tr>\n      <th>5</th>\n      <td>0</td>\n      <td>0.754717</td>\n      <td>0</td>\n      <td>0</td>\n      <td>1</td>\n      <td>False</td>\n      <td>True</td>\n      <td>False</td>\n      <td>False</td>\n      <td>False</td>\n      <td>...</td>\n      <td>False</td>\n      <td>True</td>\n      <td>False</td>\n      <td>False</td>\n      <td>False</td>\n      <td>False</td>\n      <td>True</td>\n      <td>True</td>\n      <td>False</td>\n      <td>False</td>\n    </tr>\n    <tr>\n      <th>...</th>\n      <td>...</td>\n      <td>...</td>\n      <td>...</td>\n      <td>...</td>\n      <td>...</td>\n      <td>...</td>\n      <td>...</td>\n      <td>...</td>\n      <td>...</td>\n      <td>...</td>\n      <td>...</td>\n      <td>...</td>\n      <td>...</td>\n      <td>...</td>\n      <td>...</td>\n      <td>...</td>\n      <td>...</td>\n      <td>...</td>\n      <td>...</td>\n      <td>...</td>\n      <td>...</td>\n    </tr>\n    <tr>\n      <th>14750</th>\n      <td>0</td>\n      <td>0.613208</td>\n      <td>0</td>\n      <td>1475</td>\n      <td>1</td>\n      <td>False</td>\n      <td>False</td>\n      <td>False</td>\n      <td>False</td>\n      <td>False</td>\n      <td>...</td>\n      <td>False</td>\n      <td>False</td>\n      <td>False</td>\n      <td>False</td>\n      <td>False</td>\n      <td>False</td>\n      <td>True</td>\n      <td>True</td>\n      <td>False</td>\n      <td>False</td>\n    </tr>\n    <tr>\n      <th>14751</th>\n      <td>1</td>\n      <td>0.528302</td>\n      <td>0</td>\n      <td>1302</td>\n      <td>1</td>\n      <td>False</td>\n      <td>False</td>\n      <td>False</td>\n      <td>False</td>\n      <td>False</td>\n      <td>...</td>\n      <td>False</td>\n      <td>False</td>\n      <td>False</td>\n      <td>False</td>\n      <td>False</td>\n      <td>False</td>\n      <td>True</td>\n      <td>True</td>\n      <td>False</td>\n      <td>False</td>\n    </tr>\n    <tr>\n      <th>14752</th>\n      <td>1</td>\n      <td>0.122642</td>\n      <td>0</td>\n      <td>936</td>\n      <td>1</td>\n      <td>False</td>\n      <td>False</td>\n      <td>False</td>\n      <td>False</td>\n      <td>False</td>\n      <td>...</td>\n      <td>False</td>\n      <td>False</td>\n      <td>False</td>\n      <td>False</td>\n      <td>False</td>\n      <td>True</td>\n      <td>False</td>\n      <td>True</td>\n      <td>False</td>\n      <td>False</td>\n    </tr>\n    <tr>\n      <th>14753</th>\n      <td>1</td>\n      <td>0.773585</td>\n      <td>0</td>\n      <td>420</td>\n      <td>1</td>\n      <td>False</td>\n      <td>False</td>\n      <td>False</td>\n      <td>False</td>\n      <td>False</td>\n      <td>...</td>\n      <td>False</td>\n      <td>False</td>\n      <td>False</td>\n      <td>False</td>\n      <td>False</td>\n      <td>True</td>\n      <td>False</td>\n      <td>True</td>\n      <td>False</td>\n      <td>False</td>\n    </tr>\n    <tr>\n      <th>14754</th>\n      <td>0</td>\n      <td>0.811321</td>\n      <td>0</td>\n      <td>379</td>\n      <td>1</td>\n      <td>False</td>\n      <td>False</td>\n      <td>False</td>\n      <td>False</td>\n      <td>False</td>\n      <td>...</td>\n      <td>False</td>\n      <td>False</td>\n      <td>False</td>\n      <td>False</td>\n      <td>False</td>\n      <td>True</td>\n      <td>False</td>\n      <td>True</td>\n      <td>False</td>\n      <td>False</td>\n    </tr>\n  </tbody>\n</table>\n<p>10210 rows × 140 columns</p>\n</div>"
     },
     "execution_count": 19,
     "metadata": {},
     "output_type": "execute_result"
    }
   ],
   "source": [
    "data[data['indicater']==1]"
   ],
   "id": "IwnjqGYYiR_6"
  },
  {
   "cell_type": "code",
   "execution_count": 20,
   "metadata": {
    "id": "ae2a54ae",
    "ExecuteTime": {
     "end_time": "2024-06-13T12:57:51.235630500Z",
     "start_time": "2024-06-13T12:57:51.174631400Z"
    }
   },
   "outputs": [],
   "source": [
    "X = data.drop(['Survival_Time', 'indicater'], axis=1)\n",
    "time_all = data['Survival_Time'].values\n",
    "event_all = data['indicater'].values"
   ],
   "id": "ae2a54ae"
  },
  {
   "cell_type": "code",
   "execution_count": 21,
   "metadata": {
    "id": "Ec-N3gTIaDXP",
    "colab": {
     "base_uri": "https://localhost:8080/",
     "height": 290
    },
    "outputId": "6a0f9127-5627-42d5-a79c-a4a55915ba0e",
    "ExecuteTime": {
     "end_time": "2024-06-13T12:57:51.376630900Z",
     "start_time": "2024-06-13T12:57:51.344631600Z"
    }
   },
   "outputs": [
    {
     "data": {
      "text/plain": "   Gender       Age  Indicator.of.Rare.Case  RCBP.Name_RCBP BELO HORIZONTE  \\\n0       1  0.283019                       0                          False   \n1       1  0.490566                       0                          False   \n2       1  0.698113                       0                          False   \n3       1  0.556604                       0                          False   \n4       0  0.122642                       0                          False   \n\n   RCBP.Name_RCBP CAMPINAS-UNICAMP  RCBP.Name_RCBP DISTRITO FEDERAL  \\\n0                             True                            False   \n1                             True                            False   \n2                             True                            False   \n3                             True                            False   \n4                             True                            False   \n\n   RCBP.Name_RCBP DRS BARRETOS  RCBP.Name_RCBP FORTALEZA  \\\n0                        False                     False   \n1                        False                     False   \n2                        False                     False   \n3                        False                     False   \n4                        False                     False   \n\n   RCBP.Name_RCBP MANAUS  RCBP.Name_RCBP MATO GROSSO (INTERIOR)  ...  \\\n0                  False                                  False  ...   \n1                  False                                  False  ...   \n2                  False                                  False  ...   \n3                  False                                  False  ...   \n4                  False                                  False  ...   \n\n   Diagnostic.means_PESQUISA  Diagnostic.means_SDO  Diagnostic.means_other  \\\n0                      False                  True                   False   \n1                      False                  True                   False   \n2                      False                  True                   False   \n3                      False                  True                   False   \n4                      False                 False                   False   \n\n   Extension_IN SITU  Extension_LOCALIZADO  Extension_MET?STASE  \\\n0              False                 False                 True   \n1              False                 False                 True   \n2              False                 False                False   \n3              False                 False                 True   \n4              False                 False                False   \n\n   Extension_N?O SE APLICA  Type.of.Death_C?NCER  Type.of.Death_N?O C?NCER  \\\n0                    False                  True                     False   \n1                    False                  True                     False   \n2                     True                  True                     False   \n3                    False                  True                     False   \n4                     True                 False                     False   \n\n   Type.of.Death_other  \n0                False  \n1                False  \n2                False  \n3                False  \n4                 True  \n\n[5 rows x 138 columns]",
      "text/html": "<div>\n<style scoped>\n    .dataframe tbody tr th:only-of-type {\n        vertical-align: middle;\n    }\n\n    .dataframe tbody tr th {\n        vertical-align: top;\n    }\n\n    .dataframe thead th {\n        text-align: right;\n    }\n</style>\n<table border=\"1\" class=\"dataframe\">\n  <thead>\n    <tr style=\"text-align: right;\">\n      <th></th>\n      <th>Gender</th>\n      <th>Age</th>\n      <th>Indicator.of.Rare.Case</th>\n      <th>RCBP.Name_RCBP BELO HORIZONTE</th>\n      <th>RCBP.Name_RCBP CAMPINAS-UNICAMP</th>\n      <th>RCBP.Name_RCBP DISTRITO FEDERAL</th>\n      <th>RCBP.Name_RCBP DRS BARRETOS</th>\n      <th>RCBP.Name_RCBP FORTALEZA</th>\n      <th>RCBP.Name_RCBP MANAUS</th>\n      <th>RCBP.Name_RCBP MATO GROSSO (INTERIOR)</th>\n      <th>...</th>\n      <th>Diagnostic.means_PESQUISA</th>\n      <th>Diagnostic.means_SDO</th>\n      <th>Diagnostic.means_other</th>\n      <th>Extension_IN SITU</th>\n      <th>Extension_LOCALIZADO</th>\n      <th>Extension_MET?STASE</th>\n      <th>Extension_N?O SE APLICA</th>\n      <th>Type.of.Death_C?NCER</th>\n      <th>Type.of.Death_N?O C?NCER</th>\n      <th>Type.of.Death_other</th>\n    </tr>\n  </thead>\n  <tbody>\n    <tr>\n      <th>0</th>\n      <td>1</td>\n      <td>0.283019</td>\n      <td>0</td>\n      <td>False</td>\n      <td>True</td>\n      <td>False</td>\n      <td>False</td>\n      <td>False</td>\n      <td>False</td>\n      <td>False</td>\n      <td>...</td>\n      <td>False</td>\n      <td>True</td>\n      <td>False</td>\n      <td>False</td>\n      <td>False</td>\n      <td>True</td>\n      <td>False</td>\n      <td>True</td>\n      <td>False</td>\n      <td>False</td>\n    </tr>\n    <tr>\n      <th>1</th>\n      <td>1</td>\n      <td>0.490566</td>\n      <td>0</td>\n      <td>False</td>\n      <td>True</td>\n      <td>False</td>\n      <td>False</td>\n      <td>False</td>\n      <td>False</td>\n      <td>False</td>\n      <td>...</td>\n      <td>False</td>\n      <td>True</td>\n      <td>False</td>\n      <td>False</td>\n      <td>False</td>\n      <td>True</td>\n      <td>False</td>\n      <td>True</td>\n      <td>False</td>\n      <td>False</td>\n    </tr>\n    <tr>\n      <th>2</th>\n      <td>1</td>\n      <td>0.698113</td>\n      <td>0</td>\n      <td>False</td>\n      <td>True</td>\n      <td>False</td>\n      <td>False</td>\n      <td>False</td>\n      <td>False</td>\n      <td>False</td>\n      <td>...</td>\n      <td>False</td>\n      <td>True</td>\n      <td>False</td>\n      <td>False</td>\n      <td>False</td>\n      <td>False</td>\n      <td>True</td>\n      <td>True</td>\n      <td>False</td>\n      <td>False</td>\n    </tr>\n    <tr>\n      <th>3</th>\n      <td>1</td>\n      <td>0.556604</td>\n      <td>0</td>\n      <td>False</td>\n      <td>True</td>\n      <td>False</td>\n      <td>False</td>\n      <td>False</td>\n      <td>False</td>\n      <td>False</td>\n      <td>...</td>\n      <td>False</td>\n      <td>True</td>\n      <td>False</td>\n      <td>False</td>\n      <td>False</td>\n      <td>True</td>\n      <td>False</td>\n      <td>True</td>\n      <td>False</td>\n      <td>False</td>\n    </tr>\n    <tr>\n      <th>4</th>\n      <td>0</td>\n      <td>0.122642</td>\n      <td>0</td>\n      <td>False</td>\n      <td>True</td>\n      <td>False</td>\n      <td>False</td>\n      <td>False</td>\n      <td>False</td>\n      <td>False</td>\n      <td>...</td>\n      <td>False</td>\n      <td>False</td>\n      <td>False</td>\n      <td>False</td>\n      <td>False</td>\n      <td>False</td>\n      <td>True</td>\n      <td>False</td>\n      <td>False</td>\n      <td>True</td>\n    </tr>\n  </tbody>\n</table>\n<p>5 rows × 138 columns</p>\n</div>"
     },
     "execution_count": 21,
     "metadata": {},
     "output_type": "execute_result"
    }
   ],
   "source": [
    "# X_normalize\n",
    "X.head(5)"
   ],
   "id": "Ec-N3gTIaDXP"
  },
  {
   "cell_type": "markdown",
   "source": [
    "## My comment: We have survival_time = -1 in our data!"
   ],
   "metadata": {
    "collapsed": false
   },
   "id": "905ab737cbeb8d30"
  },
  {
   "cell_type": "code",
   "execution_count": 22,
   "outputs": [
    {
     "name": "stdout",
     "output_type": "stream",
     "text": [
      "[  -1    0    1 ... 7362 7381 7408]\n"
     ]
    }
   ],
   "source": [
    "print(np.unique(time_all))"
   ],
   "metadata": {
    "collapsed": false,
    "ExecuteTime": {
     "end_time": "2024-06-13T12:57:51.984631900Z",
     "start_time": "2024-06-13T12:57:51.959631100Z"
    }
   },
   "id": "94c3d89981f4c92f"
  },
  {
   "cell_type": "code",
   "execution_count": 23,
   "metadata": {
    "id": "lUfuS-J_TAmL",
    "colab": {
     "base_uri": "https://localhost:8080/"
    },
    "outputId": "6b34fcfb-8a3b-4875-8209-474e79d6630c",
    "ExecuteTime": {
     "end_time": "2024-06-13T12:57:52.289631200Z",
     "start_time": "2024-06-13T12:57:52.253631400Z"
    }
   },
   "outputs": [
    {
     "data": {
      "text/plain": "7408"
     },
     "execution_count": 23,
     "metadata": {},
     "output_type": "execute_result"
    }
   ],
   "source": [
    "max_time = data['Survival_Time'].max()\n",
    "max_time"
   ],
   "id": "lUfuS-J_TAmL"
  },
  {
   "cell_type": "code",
   "execution_count": 24,
   "metadata": {
    "id": "u3bJGVksYVWI",
    "colab": {
     "base_uri": "https://localhost:8080/"
    },
    "outputId": "4a6b5686-dc92-4800-c3cd-8ad79387123d",
    "ExecuteTime": {
     "end_time": "2024-06-13T12:57:52.809630900Z",
     "start_time": "2024-06-13T12:57:52.773631300Z"
    }
   },
   "outputs": [
    {
     "name": "stdout",
     "output_type": "stream",
     "text": [
      "['Gender', 'Age', 'Indicator.of.Rare.Case', 'RCBP.Name_RCBP BELO HORIZONTE', 'RCBP.Name_RCBP CAMPINAS-UNICAMP', 'RCBP.Name_RCBP DISTRITO FEDERAL', 'RCBP.Name_RCBP DRS BARRETOS', 'RCBP.Name_RCBP FORTALEZA', 'RCBP.Name_RCBP MANAUS', 'RCBP.Name_RCBP MATO GROSSO (INTERIOR)', 'RCBP.Name_RCBP NATAL', 'RCBP.Name_RCBP PORTO ALEGRE', 'RCBP.Name_other', 'Raca.Color_AMARELA', 'Raca.Color_BRANCO', 'Raca.Color_IND?GENA', 'Raca.Color_PARDA', 'Raca.Color_PRETA', 'Raca.Color_other', 'State.Civil_CASADO', 'State.Civil_SEPARADO JUDICIALMENTE', 'State.Civil_SOLTEIRO', 'State.Civil_UNI?O CONSENSUAL', 'State.Civil_VI?VO', 'State.Civil_other', 'Code.Profession_0.0', 'Code.Profession_111.0', 'Code.Profession_141.0', 'Code.Profession_512.0', 'Code.Profession_514.0', 'Code.Profession_516.0', 'Code.Profession_622.0', 'Code.Profession_715.0', 'Code.Profession_782.0', 'Code.Profession_other', 'Name.Occupation_CONDUTORES DE VE?CULOS E OPERADORES DE EQUIPAMENTOS DE ELEVA??O E DE MOVIMENTA??O DE CARGAS   \\t', 'Name.Occupation_GERENTES DE PRODU??O E OPERA??ES  \\t', 'Name.Occupation_MEMBROS SUPERIORES DO PODER LEGISLATIVO, EXECUTIVO E JUDICI?RIO   \\t', 'Name.Occupation_SEM INFORMA??O\\t', 'Name.Occupation_TRABALHADORES AGR?COLAS   \\t', 'Name.Occupation_TRABALHADORES DA CONSTRU??O CIVIL E OBRAS P?BLICAS\\t', 'Name.Occupation_TRABALHADORES DOS SERVI?OS DOM?STICOS EM GERAL\\t', 'Name.Occupation_TRABALHADORES NOS SERVI?OS DE ADMINISTRA??O, CONSERVA??O E MANUTEN??O DE EDIF?CIOS E LOGRADOUROS  \\t', 'Name.Occupation_TRABALHADORES NOS SERVI?OS DE EMBELEZAMENTO E CUIDADOS PESSOAIS   \\t', 'Name.Occupation_other', 'Status.Address_AMAZONAS', 'Status.Address_CEAR?', 'Status.Address_DISTRITO FEDERAL', 'Status.Address_MATO GROSSO ', 'Status.Address_MINAS GERAIS', 'Status.Address_RIO DE JANEIRO', 'Status.Address_RIO GRANDE DO NORTE', 'Status.Address_RIO GRANDE DO SUL', 'Status.Address_S?O PAULO', 'Status.Address_other', 'City.Address_BARRETOS', 'City.Address_BEBEDOURO', 'City.Address_BRAS?LIA', 'City.Address_CAMPINAS', 'City.Address_COLINA', 'City.Address_GUA?RA', 'City.Address_MONTE AZUL PAULISTA', 'City.Address_OL?MPIA', 'City.Address_VIRADOURO', 'City.Address_other', 'Description.of.Topography_COLO DO UTERO, SOE', 'Description.of.Topography_ESTOMAGO, SOE', 'Description.of.Topography_LOCALIZACAO PRIMARIA DESCONHECIDA, SOE', 'Description.of.Topography_MAMA , SOE', 'Description.of.Topography_MEDULA OSSEA', 'Description.of.Topography_PELE DE OUTRAS PARTES DA FACE', 'Description.of.Topography_PELE DO MEMBRO SUPERIOR E DO OMBRO', 'Description.of.Topography_PROSTATA, SOE', 'Description.of.Topography_PULMAO, SOE', 'Description.of.Topography_other', 'Topography.Code_C169', 'Topography.Code_C349', 'Topography.Code_C421', 'Topography.Code_C443', 'Topography.Code_C446', 'Topography.Code_C509', 'Topography.Code_C539', 'Topography.Code_C619', 'Topography.Code_C809', 'Topography.Code_other', 'Morphology.Description_ADENOCARCINOMA TUBULAR', 'Morphology.Description_ADENOCARCINOMA, SOE', 'Morphology.Description_CARCINOMA BASO CELULAR, SOE', 'Morphology.Description_CARCINOMA BASOCELULAR, SOE', 'Morphology.Description_CARCINOMA DE CELULAS ESCAMOSAS, SOE', 'Morphology.Description_CARCINOMA DUCTAL INFILTRANTE', 'Morphology.Description_CARCINOMA ESCAMOCELULAR, SOE', 'Morphology.Description_NEOPLASIA MALIGNA', 'Morphology.Description_NEOPLASMA MALIGNO', 'Morphology.Description_other', 'Code.of.Morphology_80003', 'Code.of.Morphology_80703', 'Code.of.Morphology_80903', 'Code.of.Morphology_81403', 'Code.of.Morphology_82113', 'Code.of.Morphology_85003', 'Code.of.Morphology_95903', 'Code.of.Morphology_97323', 'Code.of.Morphology_98613', 'Code.of.Morphology_other', 'Description.of.Disease_BRONQUIOS OU PULMOES, SOE', 'Description.of.Disease_COLO DO UTERO, SOE', 'Description.of.Disease_ESTOMAGO, SOE', 'Description.of.Disease_LOCALIZACAO PRIMARIA DESCONHECIDA', 'Description.of.Disease_MAMA , SOE', 'Description.of.Disease_PELE DE OUTRAS PARTES DA FACE', 'Description.of.Disease_PELE DO MEMBRO SUPERIOR E DO OMBRO', 'Description.of.Disease_PELE DO TRONCO', 'Description.of.Disease_PROSTATA', 'Description.of.Disease_other', 'Illness.Code_C169', 'Illness.Code_C349', 'Illness.Code_C443', 'Illness.Code_C445', 'Illness.Code_C446', 'Illness.Code_C509', 'Illness.Code_C61', 'Illness.Code_C80', 'Illness.Code_C859', 'Illness.Code_other', 'Diagnostic.means_CITOLOGIA', 'Diagnostic.means_CL?NICO', 'Diagnostic.means_HISTOLOGIA DO TUMOR PRIM?RIO', 'Diagnostic.means_PESQUISA', 'Diagnostic.means_SDO', 'Diagnostic.means_other', 'Extension_IN SITU', 'Extension_LOCALIZADO', 'Extension_MET?STASE', 'Extension_N?O SE APLICA', 'Type.of.Death_C?NCER', 'Type.of.Death_N?O C?NCER', 'Type.of.Death_other']\n"
     ]
    }
   ],
   "source": [
    "print(list(X.columns))"
   ],
   "id": "u3bJGVksYVWI"
  },
  {
   "cell_type": "code",
   "execution_count": 25,
   "metadata": {
    "id": "6XPaskQWYk-k",
    "colab": {
     "base_uri": "https://localhost:8080/"
    },
    "outputId": "64d07458-d42e-4441-b653-0565131f0183",
    "ExecuteTime": {
     "end_time": "2024-06-13T12:57:53.078632600Z",
     "start_time": "2024-06-13T12:57:53.055631400Z"
    }
   },
   "outputs": [
    {
     "name": "stdout",
     "output_type": "stream",
     "text": [
      "Extension_IN SITU - 133\n",
      "Extension_LOCALIZADO - 134\n",
      "Extension_MET?STASE - 135\n",
      "Extension_N?O SE APLICA - 136\n",
      "Illness.Code_C169 - 117\n",
      "Illness.Code_C349 - 118\n",
      "Illness.Code_C443 - 119\n",
      "Illness.Code_C445 - 120\n",
      "Illness.Code_C446 - 121\n",
      "Illness.Code_C509 - 122\n",
      "Illness.Code_C61 - 123\n",
      "Illness.Code_C80 - 124\n",
      "Illness.Code_C859 - 125\n",
      "Illness.Code_other - 126\n"
     ]
    }
   ],
   "source": [
    "check = pd.DataFrame(columns=['Gender', 'Age', 'Indicator.of.Rare.Case', 'Survival_Time', 'indicater', 'RCBP.Name_RCBP BELO HORIZONTE', 'RCBP.Name_RCBP CAMPINAS-UNICAMP', 'RCBP.Name_RCBP DISTRITO FEDERAL', 'RCBP.Name_RCBP DRS BARRETOS', 'RCBP.Name_RCBP FORTALEZA', 'RCBP.Name_RCBP MANAUS', 'RCBP.Name_RCBP MATO GROSSO (INTERIOR)', 'RCBP.Name_RCBP NATAL', 'RCBP.Name_RCBP PORTO ALEGRE', 'RCBP.Name_other', 'Raca.Color_AMARELA', 'Raca.Color_BRANCO', 'Raca.Color_IND?GENA', 'Raca.Color_PARDA', 'Raca.Color_PRETA', 'Raca.Color_other', 'State.Civil_CASADO', 'State.Civil_SEPARADO JUDICIALMENTE', 'State.Civil_SOLTEIRO', 'State.Civil_UNI?O CONSENSUAL', 'State.Civil_VI?VO', 'State.Civil_other', 'Code.Profession_0.0', 'Code.Profession_111.0', 'Code.Profession_141.0', 'Code.Profession_512.0', 'Code.Profession_514.0', 'Code.Profession_516.0', 'Code.Profession_622.0', 'Code.Profession_715.0', 'Code.Profession_782.0', 'Code.Profession_other', 'Name.Occupation_CONDUTORES DE VE?CULOS E OPERADORES DE EQUIPAMENTOS DE ELEVA??O E DE MOVIMENTA??O DE CARGAS   \\t', 'Name.Occupation_GERENTES DE PRODU??O E OPERA??ES  \\t', 'Name.Occupation_MEMBROS SUPERIORES DO PODER LEGISLATIVO, EXECUTIVO E JUDICI?RIO   \\t', 'Name.Occupation_SEM INFORMA??O\\t', 'Name.Occupation_TRABALHADORES AGR?COLAS   \\t', 'Name.Occupation_TRABALHADORES DA CONSTRU??O CIVIL E OBRAS P?BLICAS\\t', 'Name.Occupation_TRABALHADORES DOS SERVI?OS DOM?STICOS EM GERAL\\t', 'Name.Occupation_TRABALHADORES NOS SERVI?OS DE ADMINISTRA??O, CONSERVA??O E MANUTEN??O DE EDIF?CIOS E LOGRADOUROS  \\t', 'Name.Occupation_TRABALHADORES NOS SERVI?OS DE EMBELEZAMENTO E CUIDADOS PESSOAIS   \\t', 'Name.Occupation_other', 'Status.Address_AMAZONAS', 'Status.Address_CEAR?', 'Status.Address_DISTRITO FEDERAL', 'Status.Address_MATO GROSSO ', 'Status.Address_MINAS GERAIS', 'Status.Address_RIO DE JANEIRO', 'Status.Address_RIO GRANDE DO NORTE', 'Status.Address_RIO GRANDE DO SUL', 'Status.Address_S?O PAULO', 'Status.Address_other', 'City.Address_BARRETOS', 'City.Address_BEBEDOURO', 'City.Address_BRAS?LIA', 'City.Address_CAMPINAS', 'City.Address_COLINA', 'City.Address_GUA?RA', 'City.Address_MONTE AZUL PAULISTA', 'City.Address_OL?MPIA', 'City.Address_VIRADOURO', 'City.Address_other', 'Description.of.Topography_COLO DO UTERO, SOE', 'Description.of.Topography_ESTOMAGO, SOE', 'Description.of.Topography_LOCALIZACAO PRIMARIA DESCONHECIDA, SOE', 'Description.of.Topography_MAMA , SOE', 'Description.of.Topography_MEDULA OSSEA', 'Description.of.Topography_PELE DE OUTRAS PARTES DA FACE', 'Description.of.Topography_PELE DO MEMBRO SUPERIOR E DO OMBRO', 'Description.of.Topography_PROSTATA, SOE', 'Description.of.Topography_PULMAO, SOE', 'Description.of.Topography_other', 'Topography.Code_C169', 'Topography.Code_C349', 'Topography.Code_C421', 'Topography.Code_C443', 'Topography.Code_C446', 'Topography.Code_C509', 'Topography.Code_C539', 'Topography.Code_C619', 'Topography.Code_C809', 'Topography.Code_other', 'Morphology.Description_ADENOCARCINOMA TUBULAR', 'Morphology.Description_ADENOCARCINOMA, SOE', 'Morphology.Description_CARCINOMA BASO CELULAR, SOE', 'Morphology.Description_CARCINOMA BASOCELULAR, SOE', 'Morphology.Description_CARCINOMA DE CELULAS ESCAMOSAS, SOE', 'Morphology.Description_CARCINOMA DUCTAL INFILTRANTE', 'Morphology.Description_CARCINOMA ESCAMOCELULAR, SOE', 'Morphology.Description_NEOPLASIA MALIGNA', 'Morphology.Description_NEOPLASMA MALIGNO', 'Morphology.Description_other', 'Code.of.Morphology_80003', 'Code.of.Morphology_80703', 'Code.of.Morphology_80903', 'Code.of.Morphology_81403', 'Code.of.Morphology_82113', 'Code.of.Morphology_85003', 'Code.of.Morphology_95903', 'Code.of.Morphology_97323', 'Code.of.Morphology_98613', 'Code.of.Morphology_other', 'Description.of.Disease_BRONQUIOS OU PULMOES, SOE', 'Description.of.Disease_COLO DO UTERO, SOE', 'Description.of.Disease_ESTOMAGO, SOE', 'Description.of.Disease_LOCALIZACAO PRIMARIA DESCONHECIDA', 'Description.of.Disease_MAMA , SOE', 'Description.of.Disease_PELE DE OUTRAS PARTES DA FACE', 'Description.of.Disease_PELE DO MEMBRO SUPERIOR E DO OMBRO', 'Description.of.Disease_PELE DO TRONCO', 'Description.of.Disease_PROSTATA', 'Description.of.Disease_other', 'Illness.Code_C169', 'Illness.Code_C349', 'Illness.Code_C443', 'Illness.Code_C445', 'Illness.Code_C446', 'Illness.Code_C509', 'Illness.Code_C61', 'Illness.Code_C80', 'Illness.Code_C859', 'Illness.Code_other', 'Diagnostic.means_CITOLOGIA', 'Diagnostic.means_CL?NICO', 'Diagnostic.means_HISTOLOGIA DO TUMOR PRIM?RIO', 'Diagnostic.means_PESQUISA', 'Diagnostic.means_SDO', 'Diagnostic.means_other', 'Extension_IN SITU', 'Extension_LOCALIZADO', 'Extension_MET?STASE', 'Extension_N?O SE APLICA', 'Type.of.Death_C?NCER', 'Type.of.Death_N?O C?NCER', 'Type.of.Death_other'])\n",
    "\n",
    "columns = list(check.columns)\n",
    "for i, c in enumerate(columns):\n",
    "    if 'extension' in c.lower():\n",
    "        print(f\"{c} - {i}\")\n",
    "\n",
    "for i, c in enumerate(columns):\n",
    "    if 'illness.code' in c.lower():\n",
    "        print(f\"{c} - {i}\")"
   ],
   "id": "6XPaskQWYk-k"
  },
  {
   "cell_type": "markdown",
   "metadata": {
    "id": "6oI1ufePDZ0p"
   },
   "source": [
    "Data divided into MTL form"
   ],
   "id": "6oI1ufePDZ0p"
  },
  {
   "cell_type": "code",
   "execution_count": 26,
   "metadata": {
    "id": "a24c4952",
    "colab": {
     "base_uri": "https://localhost:8080/"
    },
    "outputId": "a2176550-f560-4701-a0d5-f96985729b37",
    "ExecuteTime": {
     "end_time": "2024-06-13T12:57:53.765677900Z",
     "start_time": "2024-06-13T12:57:53.728633500Z"
    }
   },
   "outputs": [
    {
     "name": "stdout",
     "output_type": "stream",
     "text": [
      "torch.Size([14755, 7])\n"
     ]
    }
   ],
   "source": [
    "import numpy as np\n",
    "\n",
    "# Take the maximum time and divide it into any number of intervals\n",
    "Tmax = 7500\n",
    "num_intervals = 7\n",
    "\n",
    "intervals = [(i * (Tmax // num_intervals), (i + 1) * (Tmax // num_intervals)) for i in range(num_intervals)]\n",
    "\n",
    "Y = np.zeros((len(time_all), num_intervals), dtype=np.int_)\n",
    "\n",
    "# Until the event happens, value is 1. after that, it is 0\n",
    "for i, time_val in enumerate(time_all):\n",
    "    for j, (left, right) in enumerate(intervals):\n",
    "        if time_val > right or (left < time_val <= right):\n",
    "            Y[i, j] = 1\n",
    "\n",
    "Y = torch.Tensor(Y)\n",
    "\n",
    "print(Y.shape)"
   ],
   "id": "a24c4952"
  },
  {
   "cell_type": "code",
   "execution_count": 27,
   "metadata": {
    "id": "d0d7b5f4",
    "ExecuteTime": {
     "end_time": "2024-06-13T12:57:54.213631600Z",
     "start_time": "2024-06-13T12:57:54.192631700Z"
    }
   },
   "outputs": [],
   "source": [
    "# Creat mask matrix\n",
    "W = np.zeros((len(time_all), num_intervals), dtype=np.int_)\n",
    "\n",
    "# Until the time we have know he was alive the value is 1, after that is 0\n",
    "for i, (time_val, event_val) in enumerate(zip(time_all, event_all)):\n",
    "    for j, (left, right) in enumerate(intervals):\n",
    "        if event_val == 0 and time_val < left:\n",
    "            W[i, j] = 0\n",
    "        else:\n",
    "            W[i, j] = 1\n",
    "\n",
    "W = torch.Tensor(W)"
   ],
   "id": "d0d7b5f4"
  },
  {
   "cell_type": "code",
   "execution_count": 28,
   "metadata": {
    "id": "21e810c1",
    "colab": {
     "base_uri": "https://localhost:8080/"
    },
    "outputId": "e7e477b6-4004-4bce-90a1-5b3a7620c8df",
    "ExecuteTime": {
     "end_time": "2024-06-13T12:57:54.555630500Z",
     "start_time": "2024-06-13T12:57:54.546631400Z"
    }
   },
   "outputs": [
    {
     "name": "stdout",
     "output_type": "stream",
     "text": [
      "torch.Size([14755, 7])\n"
     ]
    }
   ],
   "source": [
    "print(W.shape)\n",
    "# So far all the codes are done by Xinyu"
   ],
   "id": "21e810c1"
  },
  {
   "cell_type": "markdown",
   "metadata": {
    "id": "EZBYqEf2Psu8"
   },
   "source": [
    "## Define and Apply the DataLoader\n",
    "- Introduced the dataloader to deal with the dataset, which would be helpful in the training and testing steps"
   ],
   "id": "EZBYqEf2Psu8"
  },
  {
   "cell_type": "code",
   "execution_count": 29,
   "metadata": {
    "id": "2ba508b1",
    "ExecuteTime": {
     "end_time": "2024-06-13T12:57:55.639631Z",
     "start_time": "2024-06-13T12:57:55.623630900Z"
    }
   },
   "outputs": [],
   "source": [
    "# Jingyan adds the dataloader\n",
    "from torch.utils.data import Dataset, DataLoader, random_split\n",
    "\n",
    "class MultiTaskDataset(Dataset):\n",
    "    def __init__(self, data, targets, masks, event_all):\n",
    "        self.data = data\n",
    "        self.targets = targets\n",
    "        self.masks = masks\n",
    "        self.event_all = event_all\n",
    "\n",
    "    def __len__(self):\n",
    "        return len(self.data)\n",
    "\n",
    "    def __getitem__(self, idx):\n",
    "        return self.data[idx], [self.targets[i][idx] for i in range(len(self.targets))], [self.masks[i][idx] for i in range(len(self.masks))], self.event_all[idx]\n"
   ],
   "id": "2ba508b1"
  },
  {
   "cell_type": "code",
   "execution_count": 30,
   "metadata": {
    "id": "870e1897",
    "colab": {
     "base_uri": "https://localhost:8080/"
    },
    "outputId": "5bc037b8-ce87-4d9f-9524-01af75549532",
    "ExecuteTime": {
     "end_time": "2024-06-13T12:57:56.291631300Z",
     "start_time": "2024-06-13T12:57:56.239631400Z"
    }
   },
   "outputs": [
    {
     "data": {
      "text/plain": "torch.Size([14755, 138])"
     },
     "execution_count": 30,
     "metadata": {},
     "output_type": "execute_result"
    }
   ],
   "source": [
    "for col in X.columns:       # modified by Ali Sam. (when I try to run the code, the transformation to tensor gives an error of data type, so I have converted the boolean coloumns to int dtype first)\n",
    "    if X[col].dtype == bool:\n",
    "        X[col] = X[col].astype(int)\n",
    "X_use = torch.tensor(X.values, dtype=torch.float32)\n",
    "X_use.shape"
   ],
   "id": "870e1897"
  },
  {
   "cell_type": "code",
   "execution_count": 31,
   "metadata": {
    "id": "LwOao-6_RPjw",
    "colab": {
     "base_uri": "https://localhost:8080/"
    },
    "outputId": "1007c5b5-0688-41a1-8d2f-e46f1c877352",
    "ExecuteTime": {
     "end_time": "2024-06-13T12:57:56.701632100Z",
     "start_time": "2024-06-13T12:57:56.681631400Z"
    }
   },
   "outputs": [
    {
     "name": "stdout",
     "output_type": "stream",
     "text": [
      "torch.Size([14755, 1])\n",
      "torch.Size([14755, 1])\n"
     ]
    }
   ],
   "source": [
    "# Convert n*m data into m * n * 1 \n",
    "Y_transform = [Y[:, i:i+1] for i in range(Y.size(1))]\n",
    "print(Y_transform[0].shape)\n",
    "W_transform = [W[:, i:i+1] for i in range(W.size(1))]\n",
    "print(W_transform[0].shape)"
   ],
   "id": "LwOao-6_RPjw"
  },
  {
   "cell_type": "code",
   "execution_count": 32,
   "metadata": {
    "id": "2df3d69b",
    "ExecuteTime": {
     "end_time": "2024-06-13T12:57:57.094631Z",
     "start_time": "2024-06-13T12:57:57.073630800Z"
    }
   },
   "outputs": [],
   "source": [
    "#Xinyu\n",
    "full_dataset = MultiTaskDataset(X_use, Y_transform, W_transform, event_all)\n",
    "\n",
    "train_size = int(0.8 * len(full_dataset))\n",
    "test_size = len(full_dataset) - train_size\n",
    "\n",
    "train_dataset, test_dataset = random_split(full_dataset, [train_size, test_size])\n",
    "train_loader = DataLoader(train_dataset, batch_size=args.batch_size, shuffle=True, drop_last=True)\n",
    "test_loader = DataLoader(test_dataset, batch_size=args.batch_size, shuffle=True, drop_last=True)"
   ],
   "id": "2df3d69b"
  },
  {
   "cell_type": "code",
   "execution_count": 33,
   "metadata": {
    "id": "XYUkvNcPHUh-",
    "colab": {
     "base_uri": "https://localhost:8080/"
    },
    "outputId": "678a9182-d16e-4d24-ce8c-f63333a286aa",
    "ExecuteTime": {
     "end_time": "2024-06-13T12:57:57.541630700Z",
     "start_time": "2024-06-13T12:57:57.451631600Z"
    }
   },
   "outputs": [
    {
     "name": "stdout",
     "output_type": "stream",
     "text": [
      "torch.Size([2048, 138])\n",
      "7 torch.Size([2048, 1])\n",
      "7 torch.Size([2048, 1])\n",
      "torch.Size([2048])\n"
     ]
    }
   ],
   "source": [
    "# created by Jingyan to check the data shape before training\n",
    "for x, y, w, e in train_loader:\n",
    "    print(x.shape)\n",
    "    print(len(y), y[0].shape)\n",
    "    print(len(w), w[0].shape)\n",
    "    print(e.shape)\n",
    "    in_features = x.shape[1]\n",
    "    out_features = len(y)\n",
    "    break"
   ],
   "id": "XYUkvNcPHUh-"
  },
  {
   "cell_type": "markdown",
   "source": [],
   "metadata": {
    "id": "Hy83qV7nFKpr"
   },
   "id": "Hy83qV7nFKpr"
  },
  {
   "cell_type": "code",
   "execution_count": 34,
   "metadata": {
    "id": "fJVpicFocpmm",
    "colab": {
     "base_uri": "https://localhost:8080/"
    },
    "outputId": "705ddbe5-106f-4453-84c0-6e9c02f4c1a6",
    "ExecuteTime": {
     "end_time": "2024-06-13T12:57:58.257631Z",
     "start_time": "2024-06-13T12:57:58.238632100Z"
    }
   },
   "outputs": [
    {
     "data": {
      "text/plain": "7"
     },
     "execution_count": 34,
     "metadata": {},
     "output_type": "execute_result"
    }
   ],
   "source": [
    "out_features"
   ],
   "id": "fJVpicFocpmm"
  },
  {
   "cell_type": "code",
   "execution_count": 35,
   "metadata": {
    "id": "rfZk8o1wVMnJ",
    "colab": {
     "base_uri": "https://localhost:8080/"
    },
    "outputId": "e143239b-3c15-4577-e61e-2231712274a4",
    "ExecuteTime": {
     "end_time": "2024-06-13T12:57:58.695631Z",
     "start_time": "2024-06-13T12:57:58.580630800Z"
    }
   },
   "outputs": [
    {
     "name": "stdout",
     "output_type": "stream",
     "text": [
      "torch.Size([2048, 138])\n",
      "7 torch.Size([2048, 1])\n",
      "7 torch.Size([2048, 1])\n",
      "torch.Size([2048])\n"
     ]
    }
   ],
   "source": [
    "for x, y, w, e in test_loader:\n",
    "    print(x.shape)\n",
    "    print(len(y), y[0].shape)\n",
    "    print(len(w), w[0].shape)\n",
    "    print(e.shape)\n",
    "    break"
   ],
   "id": "rfZk8o1wVMnJ"
  },
  {
   "cell_type": "code",
   "execution_count": 36,
   "metadata": {
    "id": "4p-O7JPL_81g",
    "ExecuteTime": {
     "end_time": "2024-06-13T12:57:59.659632900Z",
     "start_time": "2024-06-13T12:57:59.258631Z"
    }
   },
   "outputs": [],
   "source": [
    "e_train = []\n",
    "for x, y, w, e in train_loader:\n",
    "  e_train.append(e)\n",
    "\n",
    "event_train = torch.cat(e_train, dim=0)"
   ],
   "id": "4p-O7JPL_81g"
  },
  {
   "cell_type": "code",
   "execution_count": 37,
   "metadata": {
    "id": "y8mAUKtjAJQm",
    "colab": {
     "base_uri": "https://localhost:8080/"
    },
    "outputId": "74a92d9f-184b-4bc1-b483-d78faea30e5f",
    "ExecuteTime": {
     "end_time": "2024-06-13T12:57:59.686630600Z",
     "start_time": "2024-06-13T12:57:59.659632900Z"
    }
   },
   "outputs": [
    {
     "data": {
      "text/plain": "torch.Size([10240])"
     },
     "execution_count": 37,
     "metadata": {},
     "output_type": "execute_result"
    }
   ],
   "source": [
    "event_train.shape"
   ],
   "id": "y8mAUKtjAJQm"
  },
  {
   "cell_type": "markdown",
   "metadata": {
    "id": "_-1hL3F0dZ94"
   },
   "source": [
    "## Original Code (comment out)"
   ],
   "id": "_-1hL3F0dZ94"
  },
  {
   "cell_type": "code",
   "execution_count": 38,
   "metadata": {
    "id": "3e064423",
    "ExecuteTime": {
     "end_time": "2024-06-13T12:58:00.689186200Z",
     "start_time": "2024-06-13T12:58:00.673184700Z"
    }
   },
   "outputs": [],
   "source": [
    "# num_columns = Y_train.shape[1]\n",
    "# Y_train_cols = []\n",
    "# for i in range(num_columns):\n",
    "#     col = Y_train[:, i]\n",
    "#     var_name = 'Y' + str(i+1)\n",
    "#     locals()[var_name] = col\n",
    "#     Y_train_cols.append(locals()[var_name])\n",
    "\n",
    "# num_test_columns = Y_test.shape[1]\n",
    "# Y_test_cols = []\n",
    "# for i in range(num_test_columns):\n",
    "#     col = Y_test[:, i]\n",
    "#     var_name = 'Y' + str(i+1)\n",
    "#     locals()[var_name] = col\n",
    "#     Y_test_cols.append(locals()[var_name])"
   ],
   "id": "3e064423"
  },
  {
   "cell_type": "code",
   "execution_count": 39,
   "metadata": {
    "id": "50beee74",
    "ExecuteTime": {
     "end_time": "2024-06-13T12:58:01.074184500Z",
     "start_time": "2024-06-13T12:58:01.058185500Z"
    }
   },
   "outputs": [],
   "source": [
    "# num_columns = W_train.shape[1]\n",
    "\n",
    "# W_train_cols = []\n",
    "\n",
    "# for i in range(num_columns):\n",
    "#   col = W_train[:, i]\n",
    "#   var_name = 'W' + str(i+1)\n",
    "#   locals()[var_name] = col\n",
    "#   W_train_cols.append(locals()[var_name])\n",
    "\n",
    "# num_test_columns = W_test.shape[1]\n",
    "\n",
    "# W_test_cols = []\n",
    "\n",
    "# for i in range(num_test_columns):\n",
    "#   col = W_test[:, i]\n",
    "#   var_name = 'W' + str(i+1)\n",
    "#   locals()[var_name] = col\n",
    "#   W_test_cols.append(locals()[var_name])"
   ],
   "id": "50beee74"
  },
  {
   "cell_type": "code",
   "execution_count": 40,
   "metadata": {
    "id": "c681806b",
    "scrolled": true,
    "ExecuteTime": {
     "end_time": "2024-06-13T12:58:01.325184600Z",
     "start_time": "2024-06-13T12:58:01.317184500Z"
    }
   },
   "outputs": [],
   "source": [
    "# print(W_train_cols[1].shape)\n",
    "# print(W_test_cols[1].shape)\n",
    "# print(Y_train_cols[1].shape)\n",
    "# print(Y_test_cols[1].shape)"
   ],
   "id": "c681806b"
  },
  {
   "cell_type": "markdown",
   "metadata": {
    "id": "5eBcr_gqdevp"
   },
   "source": [
    "## Model\n",
    "- Changed the loss function to match the data format using dataloader"
   ],
   "id": "5eBcr_gqdevp"
  },
  {
   "cell_type": "code",
   "execution_count": 41,
   "metadata": {
    "id": "2ee0f912",
    "ExecuteTime": {
     "end_time": "2024-06-13T12:58:02.315185900Z",
     "start_time": "2024-06-13T12:58:02.312185Z"
    }
   },
   "outputs": [],
   "source": [
    "import torch.nn as nn\n",
    "import torch.nn.functional as F"
   ],
   "id": "2ee0f912"
  },
  {
   "cell_type": "code",
   "execution_count": 42,
   "metadata": {
    "id": "56e001e5",
    "ExecuteTime": {
     "end_time": "2024-06-13T12:58:02.764184600Z",
     "start_time": "2024-06-13T12:58:02.750184600Z"
    }
   },
   "outputs": [],
   "source": [
    "# Made by Xinyu and modified by Dr.Li and Jingyan\n",
    "class MultiTaskModel(nn.Module):\n",
    "    def __init__(self, in_features, out_features):\n",
    "        super(MultiTaskModel, self).__init__()\n",
    "        self.num_tasks = out_features\n",
    "        self.input_features = in_features\n",
    "\n",
    "        self.shared_layers = nn.Sequential(\n",
    "            nn.Linear(in_features, 128),\n",
    "            nn.ReLU(),\n",
    "            nn.AlphaDropout(0.1),\n",
    "\n",
    "            nn.Linear(128, 128),\n",
    "            nn.ReLU(),\n",
    "            nn.AlphaDropout(0.1),\n",
    "\n",
    "            nn.Linear(128, 128),\n",
    "            nn.ReLU(),\n",
    "            nn.AlphaDropout(0.1)\n",
    "        )\n",
    "# A Classic Multi Task Learning Framework\n",
    "        self.task_layers = nn.ModuleList([nn.Linear(128, 1) for _ in range(out_features)])#after your papaer I decided to use MTL to solve this prob\n",
    "\n",
    "# This forward propagation logic defines the chain propagation of our idea\n",
    "    def forward(self, x):\n",
    "        shared_output = self.shared_layers(x)\n",
    "        task_outputs = []\n",
    "        for i, task_layer in enumerate(self.task_layers):\n",
    "            if i == 0:\n",
    "                task_output = torch.sigmoid(task_layer(shared_output))\n",
    "            else:\n",
    "                task_output = torch.sigmoid(task_layer(shared_output)) * task_outputs[-1]\n",
    "            task_outputs.append(task_output)\n",
    "\n",
    "        return task_outputs# Here I difined the S(x)\n",
    "\n",
    "\n",
    "    # def custom_loss(self, task_outputs, Y_train_cols, W_train_cols):\n",
    "    #     loss = 0\n",
    "    #     for i, task_output in enumerate(task_outputs):\n",
    "    #         task_target = Y_train_cols[i].unsqueeze(1)\n",
    "    #         task_mask = W_train_cols[i].unsqueeze(1)\n",
    "    #         task_loss = F.binary_cross_entropy_with_logits(task_output, task_target.float(), reduction='none')\n",
    "    #         task_loss = task_loss * task_mask.float()\n",
    "    #         loss += task_loss.sum() / task_mask.sum()\n",
    "    #     return loss#There are how I use mask matrix W to control the loss function\n",
    "\n",
    "# Modified by Jingyan\n",
    "    def custom_loss(self, task_outputs, targets, masks):\n",
    "        loss = 0\n",
    "        for i, task_output in enumerate(task_outputs):\n",
    "            task_target = targets[i]\n",
    "            task_mask = masks[i]\n",
    "            task_loss = F.binary_cross_entropy(task_output, task_target.float(), reduction='none')\n",
    "            task_loss = task_loss * task_mask.float()\n",
    "            loss += task_loss.sum() / task_mask.sum()\n",
    "        return loss"
   ],
   "id": "56e001e5"
  },
  {
   "cell_type": "markdown",
   "source": [
    "## TASK 2"
   ],
   "metadata": {
    "id": "JUibJemuGRX3"
   },
   "id": "JUibJemuGRX3"
  },
  {
   "cell_type": "code",
   "execution_count": 75,
   "outputs": [
    {
     "name": "stderr",
     "output_type": "stream",
     "text": [
      "Epoch 1/10: 100%|██████████| 5/5 [00:00<00:00,  9.29it/s, Loss=204]\n"
     ]
    },
    {
     "name": "stdout",
     "output_type": "stream",
     "text": [
      "End of Epoch 1, Average Loss: 162.2230\n"
     ]
    },
    {
     "name": "stderr",
     "output_type": "stream",
     "text": [
      "Epoch 2/10: 100%|██████████| 5/5 [00:00<00:00,  8.46it/s, Loss=593]\n"
     ]
    },
    {
     "name": "stdout",
     "output_type": "stream",
     "text": [
      "End of Epoch 2, Average Loss: 405.4234\n"
     ]
    },
    {
     "name": "stderr",
     "output_type": "stream",
     "text": [
      "Epoch 3/10: 100%|██████████| 5/5 [00:00<00:00,  8.08it/s, Loss=788]\n"
     ]
    },
    {
     "name": "stdout",
     "output_type": "stream",
     "text": [
      "End of Epoch 3, Average Loss: 801.1786\n"
     ]
    },
    {
     "name": "stderr",
     "output_type": "stream",
     "text": [
      "Epoch 4/10: 100%|██████████| 5/5 [00:00<00:00,  9.43it/s, Loss=101]\n"
     ]
    },
    {
     "name": "stdout",
     "output_type": "stream",
     "text": [
      "End of Epoch 4, Average Loss: 344.9791\n"
     ]
    },
    {
     "name": "stderr",
     "output_type": "stream",
     "text": [
      "Epoch 5/10: 100%|██████████| 5/5 [00:00<00:00,  9.28it/s, Loss=23.6]\n"
     ]
    },
    {
     "name": "stdout",
     "output_type": "stream",
     "text": [
      "End of Epoch 5, Average Loss: 33.0836\n"
     ]
    },
    {
     "name": "stderr",
     "output_type": "stream",
     "text": [
      "Epoch 6/10: 100%|██████████| 5/5 [00:00<00:00,  9.84it/s, Loss=30.5]\n"
     ]
    },
    {
     "name": "stdout",
     "output_type": "stream",
     "text": [
      "End of Epoch 6, Average Loss: 27.2280\n"
     ]
    },
    {
     "name": "stderr",
     "output_type": "stream",
     "text": [
      "Epoch 7/10: 100%|██████████| 5/5 [00:00<00:00,  8.52it/s, Loss=35.8]\n"
     ]
    },
    {
     "name": "stdout",
     "output_type": "stream",
     "text": [
      "End of Epoch 7, Average Loss: 33.8878\n"
     ]
    },
    {
     "name": "stderr",
     "output_type": "stream",
     "text": [
      "Epoch 8/10: 100%|██████████| 5/5 [00:00<00:00,  8.36it/s, Loss=39.5]\n"
     ]
    },
    {
     "name": "stdout",
     "output_type": "stream",
     "text": [
      "End of Epoch 8, Average Loss: 37.9142\n"
     ]
    },
    {
     "name": "stderr",
     "output_type": "stream",
     "text": [
      "Epoch 9/10: 100%|██████████| 5/5 [00:00<00:00,  8.25it/s, Loss=39.4]\n"
     ]
    },
    {
     "name": "stdout",
     "output_type": "stream",
     "text": [
      "End of Epoch 9, Average Loss: 39.4617\n"
     ]
    },
    {
     "name": "stderr",
     "output_type": "stream",
     "text": [
      "Epoch 10/10: 100%|██████████| 5/5 [00:00<00:00,  9.92it/s, Loss=40.2]"
     ]
    },
    {
     "name": "stdout",
     "output_type": "stream",
     "text": [
      "End of Epoch 10, Average Loss: 39.5350\n",
      "Training completed\n"
     ]
    },
    {
     "name": "stderr",
     "output_type": "stream",
     "text": [
      "\n"
     ]
    }
   ],
   "source": [
    "import torch\n",
    "from tqdm import tqdm\n",
    "import torch\n",
    "\n",
    "#Ali Sam\n",
    "import torch\n",
    "from tqdm import tqdm\n",
    "import torch\n",
    "\n",
    "\n",
    "class SimplifiedAttributionPriorExplainer:\n",
    "    def __init__(self, model):\n",
    "        self.model = model\n",
    "\n",
    "    def compute_gradients(self, input_tensor, interval):\n",
    "        self.model.eval()\n",
    "        input_tensor.requires_grad_(True)\n",
    "        output = self.model(input_tensor)[interval].squeeze()\n",
    "        output.backward(torch.ones_like(output))\n",
    "        gradients = input_tensor.grad.data\n",
    "        input_tensor.requires_grad_(False)\n",
    "\n",
    "        return gradients.abs()  # Return the absolute value of the gradients to represent feature importance\n",
    "\n",
    "\n",
    "E = 10 #150\n",
    "T = 7  # Assuming there are 7 time intervals\n",
    "lambda_smooth = 0.5  # Fixed regularization coefficient for Omega_smooth\n",
    "loss_records = []\n",
    "# Initialize model and optimizer\n",
    "model = MultiTaskModel(in_features, out_features).to(device)\n",
    "optimizer = torch.optim.Adam(model.parameters(), lr=0.001)\n",
    "explainer = SimplifiedAttributionPriorExplainer(model)\n",
    "\n",
    "\n",
    "# Training Loop with Enhanced Dynamic Regularization\n",
    "for e in range(1, E+1):\n",
    "    total_loss = 0\n",
    "    progress_bar = tqdm(enumerate(train_loader), total=len(train_loader), desc=f\"Epoch {e}/{E}\")\n",
    "    for batch_idx, (X_train, targets, masks, event_train) in progress_bar:\n",
    "        X_train = X_train.to(device)\n",
    "        targets = [target.to(device) for target in targets]\n",
    "        masks = [mask.to(device) for mask in masks]\n",
    "\n",
    "        optimizer.zero_grad()\n",
    "        task_outputs = model(X_train)\n",
    "        # Base loss computation\n",
    "        L_base = model.custom_loss(task_outputs, targets, masks)\n",
    "        # Regularization terms calculation\n",
    "        Rsmooth = 0  # Initialize smoothing regularization\n",
    "        prev_attributions = None\n",
    "        for i in range(T):\n",
    "            current_attributions = explainer.compute_gradients(X_train, i)\n",
    "\n",
    "            # Compute smoothing regularization\n",
    "            if prev_attributions is not None:\n",
    "                diff = current_attributions - prev_attributions\n",
    "                norm_diff = torch.norm(diff, p=1)\n",
    "                Rsmooth += norm_diff\n",
    "\n",
    "            prev_attributions = current_attributions\n",
    "        \n",
    "        loss = L_base + (lambda_smooth * Rsmooth)\n",
    "        loss.backward()\n",
    "        optimizer.step()\n",
    "        total_loss += loss.item()\n",
    "        progress_bar.set_postfix({'Loss': loss.item()})\n",
    "\n",
    "    avg_loss = total_loss / len(train_loader)\n",
    "    loss_records.append(avg_loss)\n",
    "    print(f'End of Epoch {e}, Average Loss: {avg_loss:.4f}')\n",
    "\n",
    "print('Training completed')\n",
    "\n",
    "\n",
    "\n",
    "\n",
    "\n",
    "\n",
    "\n",
    "\n",
    "\n",
    "\n"
   ],
   "metadata": {
    "collapsed": false,
    "ExecuteTime": {
     "end_time": "2024-06-13T13:34:28.652276100Z",
     "start_time": "2024-06-13T13:34:22.993254700Z"
    }
   },
   "id": "778f39b068890782"
  },
  {
   "cell_type": "code",
   "execution_count": null,
   "outputs": [],
   "source": [],
   "metadata": {
    "collapsed": false
   },
   "id": "a7e8a756264c4a1f"
  },
  {
   "cell_type": "code",
   "execution_count": 63,
   "outputs": [
    {
     "name": "stdout",
     "output_type": "stream",
     "text": [
      "7\n",
      "torch.Size([2048, 1])\n"
     ]
    }
   ],
   "source": [
    "# Created by Jingyan\n",
    "model.eval()\n",
    "test_predictions = []\n",
    "\n",
    "# Disable gradient calculations\n",
    "with torch.no_grad():\n",
    "    for X_test, _, _, _ in test_loader:\n",
    "        # Forward pass\n",
    "        X_test = X_test.to(device)\n",
    "        task_outputs_ = model(X_test)\n",
    "\n",
    "        # Store the predictions\n",
    "        test_predictions.append(task_outputs_)\n",
    "\n",
    "# Process the predictions as needed\n",
    "# For example, converting them to a list or concatenating\n",
    "# Here we concatenate the predictions for each task\n",
    "test_predictions = [torch.cat([preds[i] for preds in test_predictions]) for i in range(len(test_predictions[0]))]\n",
    "\n",
    "print(len(test_predictions))\n",
    "print(test_predictions[0].shape)"
   ],
   "metadata": {
    "collapsed": false,
    "ExecuteTime": {
     "end_time": "2024-06-13T13:22:45.695558600Z",
     "start_time": "2024-06-13T13:22:45.627559100Z"
    }
   },
   "id": "536585788a437542"
  },
  {
   "cell_type": "code",
   "execution_count": 64,
   "outputs": [
    {
     "name": "stdout",
     "output_type": "stream",
     "text": [
      "7\n",
      "torch.Size([10240, 1])\n"
     ]
    }
   ],
   "source": [
    "# Created by Jingyan\n",
    "model.eval()\n",
    "train_predictions = []\n",
    "\n",
    "# Disable gradient calculations\n",
    "with torch.no_grad():\n",
    "    for X_train, _, _, _ in train_loader:\n",
    "        # Forward pass\n",
    "        X_train = X_train.to(device)\n",
    "        task_outputs_ = model(X_train)\n",
    "\n",
    "        # Store the predictions\n",
    "        train_predictions.append(task_outputs_)\n",
    "\n",
    "# Process the predictions as needed\n",
    "# For example, converting them to a list or concatenating\n",
    "# Here we concatenate the predictions for each task\n",
    "train_predictions = [torch.cat([preds[i] for preds in train_predictions]) for i in range(len(train_predictions[0]))]\n",
    "\n",
    "print(len(train_predictions))\n",
    "print(train_predictions[0].shape)"
   ],
   "metadata": {
    "collapsed": false,
    "ExecuteTime": {
     "end_time": "2024-06-13T13:22:46.926559200Z",
     "start_time": "2024-06-13T13:22:46.379558700Z"
    }
   },
   "id": "b046a1d4093a0ef8"
  },
  {
   "cell_type": "code",
   "execution_count": 65,
   "outputs": [
    {
     "name": "stdout",
     "output_type": "stream",
     "text": [
      "tensor(True, device='cuda:0')\n",
      "tensor(True, device='cuda:0')\n",
      "tensor(True, device='cuda:0')\n",
      "tensor(True, device='cuda:0')\n",
      "tensor(True, device='cuda:0')\n",
      "tensor(True, device='cuda:0')\n",
      "torch.Size([10240])\n",
      "tensor(True, device='cuda:0')\n",
      "tensor(True, device='cuda:0')\n",
      "tensor(True, device='cuda:0')\n",
      "tensor(True, device='cuda:0')\n",
      "tensor(True, device='cuda:0')\n",
      "tensor(True, device='cuda:0')\n",
      "torch.Size([2048])\n",
      "7\n",
      "torch.Size([10240, 1])\n",
      "torch.Size([10240])\n",
      "7\n",
      "torch.Size([2048, 1])\n",
      "torch.Size([2048])\n",
      "tensor(False)\n",
      "tensor(False)\n",
      "tensor(False)\n",
      "tensor(False)\n",
      "tensor(False)\n",
      "tensor(False)\n",
      "torch.Size([10240])\n",
      "tensor(False)\n",
      "tensor(False)\n",
      "tensor(False)\n",
      "tensor(False)\n",
      "tensor(False)\n",
      "tensor(False)\n",
      "torch.Size([2048])\n"
     ]
    }
   ],
   "source": [
    "# made by Xinyu\n",
    "def binarize_and_sum_columns(output_list):\n",
    "    def binarize_list(input_list):\n",
    "        tensor = torch.Tensor(input_list)\n",
    "        # print(input_list.max() == input_list.min())\n",
    "        binary_tensor = (tensor >= 0.5).float()\n",
    "        return binary_tensor\n",
    "\n",
    "    result = binarize_list(output_list[0])\n",
    "    for i in range(1, len(output_list)):\n",
    "        binary_column = binarize_list(output_list[i])\n",
    "        print(binary_column.max() == binary_column.min())\n",
    "        result += binary_column\n",
    "\n",
    "    return result\n",
    "\n",
    "# made by Xinyu\n",
    "Y_hat_train = binarize_and_sum_columns(train_predictions)\n",
    "Y_hat_train = Y_hat_train.squeeze()\n",
    "print(Y_hat_train.shape)\n",
    "\n",
    "Y_hat_test = binarize_and_sum_columns(test_predictions)\n",
    "Y_hat_test = Y_hat_test.squeeze()\n",
    "print(Y_hat_test.shape)\n",
    "\n",
    "\n",
    "# created by Jingyan\n",
    "# Get the true labels and status\n",
    "train_trues = []\n",
    "train_statuses = []\n",
    "for _, train_targets, train_masks, train_status in train_loader:\n",
    "    true_label = [train_targets[i]*train_masks[i] for i in range(len(train_targets))]\n",
    "    train_trues.append(true_label)\n",
    "    train_statuses.append(train_status)\n",
    "train_trues = [torch.cat([preds[i] for preds in train_trues]) for i in range(len(train_trues[0]))]\n",
    "train_statuses = torch.cat([status for status in train_statuses])\n",
    "\n",
    "print(len(train_trues))\n",
    "print(train_trues[0].shape)\n",
    "print(train_statuses.shape)\n",
    "\n",
    "test_trues = []\n",
    "test_statuses = []\n",
    "for _, test_targets, test_masks, test_status in test_loader:\n",
    "    true_label = [test_targets[i]*test_masks[i] for i in range(len(test_targets))]\n",
    "    test_trues.append(true_label)\n",
    "    test_statuses.append(test_status)\n",
    "\n",
    "test_trues = [torch.cat([preds[i] for preds in test_trues]) for i in range(len(test_trues[0]))]\n",
    "test_statuses = torch.cat([status for status in test_statuses])\n",
    "\n",
    "print(len(test_trues))\n",
    "print(test_trues[0].shape)\n",
    "print(test_statuses.shape)\n",
    "\n",
    "# made by Xinyu\n",
    "Y_true_train = binarize_and_sum_columns(train_trues)\n",
    "Y_true_train = Y_true_train.squeeze()\n",
    "print(Y_true_train.shape)\n",
    "\n",
    "Y_true_test = binarize_and_sum_columns(test_trues)\n",
    "Y_true_test = Y_true_test.squeeze()\n",
    "print(Y_true_test.shape)"
   ],
   "metadata": {
    "collapsed": false,
    "ExecuteTime": {
     "end_time": "2024-06-13T13:22:48.152558400Z",
     "start_time": "2024-06-13T13:22:47.658558900Z"
    }
   },
   "id": "86a3efe713c1a7be"
  },
  {
   "cell_type": "code",
   "execution_count": 66,
   "outputs": [
    {
     "name": "stderr",
     "output_type": "stream",
     "text": [
      "  1%|▏         | 30/2048 [00:05<06:06,  5.50it/s]\n"
     ]
    },
    {
     "ename": "KeyboardInterrupt",
     "evalue": "",
     "output_type": "error",
     "traceback": [
      "\u001B[1;31m---------------------------------------------------------------------------\u001B[0m",
      "\u001B[1;31mKeyboardInterrupt\u001B[0m                         Traceback (most recent call last)",
      "Cell \u001B[1;32mIn[66], line 37\u001B[0m\n\u001B[0;32m     34\u001B[0m cindex_calculator \u001B[38;5;241m=\u001B[39m Cindex()\n\u001B[0;32m     35\u001B[0m \u001B[38;5;66;03m# c11_train = cindex_calculator(Y_true_train, Y_hat_train, train_statuses)\u001B[39;00m\n\u001B[0;32m     36\u001B[0m \u001B[38;5;66;03m# print(c11_train)\u001B[39;00m\n\u001B[1;32m---> 37\u001B[0m c11_test \u001B[38;5;241m=\u001B[39m \u001B[43mcindex_calculator\u001B[49m\u001B[43m(\u001B[49m\u001B[43mY_true_test\u001B[49m\u001B[43m,\u001B[49m\u001B[43m \u001B[49m\u001B[43mY_hat_test\u001B[49m\u001B[43m,\u001B[49m\u001B[43m \u001B[49m\u001B[43mtest_statuses\u001B[49m\u001B[43m)\u001B[49m\n\u001B[0;32m     38\u001B[0m \u001B[38;5;28mprint\u001B[39m(c11_test)\n",
      "File \u001B[1;32m~\\anaconda3\\envs\\future\\lib\\site-packages\\torch\\nn\\modules\\module.py:1532\u001B[0m, in \u001B[0;36mModule._wrapped_call_impl\u001B[1;34m(self, *args, **kwargs)\u001B[0m\n\u001B[0;32m   1530\u001B[0m     \u001B[38;5;28;01mreturn\u001B[39;00m \u001B[38;5;28mself\u001B[39m\u001B[38;5;241m.\u001B[39m_compiled_call_impl(\u001B[38;5;241m*\u001B[39margs, \u001B[38;5;241m*\u001B[39m\u001B[38;5;241m*\u001B[39mkwargs)  \u001B[38;5;66;03m# type: ignore[misc]\u001B[39;00m\n\u001B[0;32m   1531\u001B[0m \u001B[38;5;28;01melse\u001B[39;00m:\n\u001B[1;32m-> 1532\u001B[0m     \u001B[38;5;28;01mreturn\u001B[39;00m \u001B[38;5;28mself\u001B[39m\u001B[38;5;241m.\u001B[39m_call_impl(\u001B[38;5;241m*\u001B[39margs, \u001B[38;5;241m*\u001B[39m\u001B[38;5;241m*\u001B[39mkwargs)\n",
      "File \u001B[1;32m~\\anaconda3\\envs\\future\\lib\\site-packages\\torch\\nn\\modules\\module.py:1541\u001B[0m, in \u001B[0;36mModule._call_impl\u001B[1;34m(self, *args, **kwargs)\u001B[0m\n\u001B[0;32m   1536\u001B[0m \u001B[38;5;66;03m# If we don't have any hooks, we want to skip the rest of the logic in\u001B[39;00m\n\u001B[0;32m   1537\u001B[0m \u001B[38;5;66;03m# this function, and just call forward.\u001B[39;00m\n\u001B[0;32m   1538\u001B[0m \u001B[38;5;28;01mif\u001B[39;00m \u001B[38;5;129;01mnot\u001B[39;00m (\u001B[38;5;28mself\u001B[39m\u001B[38;5;241m.\u001B[39m_backward_hooks \u001B[38;5;129;01mor\u001B[39;00m \u001B[38;5;28mself\u001B[39m\u001B[38;5;241m.\u001B[39m_backward_pre_hooks \u001B[38;5;129;01mor\u001B[39;00m \u001B[38;5;28mself\u001B[39m\u001B[38;5;241m.\u001B[39m_forward_hooks \u001B[38;5;129;01mor\u001B[39;00m \u001B[38;5;28mself\u001B[39m\u001B[38;5;241m.\u001B[39m_forward_pre_hooks\n\u001B[0;32m   1539\u001B[0m         \u001B[38;5;129;01mor\u001B[39;00m _global_backward_pre_hooks \u001B[38;5;129;01mor\u001B[39;00m _global_backward_hooks\n\u001B[0;32m   1540\u001B[0m         \u001B[38;5;129;01mor\u001B[39;00m _global_forward_hooks \u001B[38;5;129;01mor\u001B[39;00m _global_forward_pre_hooks):\n\u001B[1;32m-> 1541\u001B[0m     \u001B[38;5;28;01mreturn\u001B[39;00m forward_call(\u001B[38;5;241m*\u001B[39margs, \u001B[38;5;241m*\u001B[39m\u001B[38;5;241m*\u001B[39mkwargs)\n\u001B[0;32m   1543\u001B[0m \u001B[38;5;28;01mtry\u001B[39;00m:\n\u001B[0;32m   1544\u001B[0m     result \u001B[38;5;241m=\u001B[39m \u001B[38;5;28;01mNone\u001B[39;00m\n",
      "Cell \u001B[1;32mIn[66], line 26\u001B[0m, in \u001B[0;36mCindex.forward\u001B[1;34m(self, y, y_hat, status)\u001B[0m\n\u001B[0;32m     24\u001B[0m astatus \u001B[38;5;241m=\u001B[39m status[i]\n\u001B[0;32m     25\u001B[0m bstatus \u001B[38;5;241m=\u001B[39m status[j]\n\u001B[1;32m---> 26\u001B[0m \u001B[38;5;28;01mif\u001B[39;00m (a \u001B[38;5;241m>\u001B[39m\u001B[38;5;241m=\u001B[39m b \u001B[38;5;129;01mand\u001B[39;00m a_hat \u001B[38;5;241m>\u001B[39m\u001B[38;5;241m=\u001B[39m b_hat \u001B[38;5;129;01mand\u001B[39;00m bstatus \u001B[38;5;241m==\u001B[39m \u001B[38;5;241m1\u001B[39m) \u001B[38;5;129;01mor\u001B[39;00m (\u001B[43ma\u001B[49m\u001B[43m \u001B[49m\u001B[38;5;241;43m<\u001B[39;49m\u001B[38;5;241;43m=\u001B[39;49m\u001B[43m \u001B[49m\u001B[43mb\u001B[49m \u001B[38;5;129;01mand\u001B[39;00m a_hat \u001B[38;5;241m<\u001B[39m\u001B[38;5;241m=\u001B[39m b_hat \u001B[38;5;129;01mand\u001B[39;00m astatus \u001B[38;5;241m==\u001B[39m \u001B[38;5;241m1\u001B[39m):\n\u001B[0;32m     27\u001B[0m     c \u001B[38;5;241m+\u001B[39m\u001B[38;5;241m=\u001B[39m \u001B[38;5;241m1\u001B[39m\n\u001B[0;32m     28\u001B[0m \u001B[38;5;28;01mif\u001B[39;00m (a \u001B[38;5;241m<\u001B[39m\u001B[38;5;241m=\u001B[39m b \u001B[38;5;129;01mand\u001B[39;00m astatus\u001B[38;5;241m==\u001B[39m\u001B[38;5;241m1\u001B[39m) \u001B[38;5;129;01mor\u001B[39;00m (b \u001B[38;5;241m<\u001B[39m\u001B[38;5;241m=\u001B[39m a \u001B[38;5;129;01mand\u001B[39;00m bstatus \u001B[38;5;241m==\u001B[39m \u001B[38;5;241m1\u001B[39m):\n",
      "\u001B[1;31mKeyboardInterrupt\u001B[0m: "
     ]
    }
   ],
   "source": [
    "from tqdm import trange\n",
    "class Cindex(torch.nn.Module):\n",
    "    def __init__(self):\n",
    "        super(Cindex, self).__init__()\n",
    "\n",
    "    def forward(self, y, y_hat, status):\n",
    "        if not torch.is_tensor(y):\n",
    "            y = torch.Tensor(y)\n",
    "        if not torch.is_tensor(y_hat):\n",
    "            y_hat = torch.Tensor(y_hat)\n",
    "        if not torch.is_tensor(status):\n",
    "          status = torch.Tensor(status)\n",
    "\n",
    "        N = y.size(0)\n",
    "        total_pairs = 0\n",
    "        c = 0\n",
    "\n",
    "        for i in trange(N):\n",
    "            for j in range(i + 1, N):\n",
    "                a = y[i]\n",
    "                b = y[j]\n",
    "                a_hat = y_hat[i]\n",
    "                b_hat = y_hat[j]\n",
    "                astatus = status[i]\n",
    "                bstatus = status[j]\n",
    "                if (a >= b and a_hat >= b_hat and bstatus == 1) or (a <= b and a_hat <= b_hat and astatus == 1):\n",
    "                    c += 1\n",
    "                if (a <= b and astatus==1) or (b <= a and bstatus == 1):\n",
    "                    total_pairs += 1\n",
    "\n",
    "        outcome = c / total_pairs\n",
    "        return outcome\n",
    "\n",
    "cindex_calculator = Cindex()\n",
    "# c11_train = cindex_calculator(Y_true_train, Y_hat_train, train_statuses)\n",
    "# print(c11_train)\n",
    "c11_test = cindex_calculator(Y_true_test, Y_hat_test, test_statuses)\n",
    "print(c11_test)"
   ],
   "metadata": {
    "collapsed": false,
    "ExecuteTime": {
     "end_time": "2024-06-13T13:22:54.460559Z",
     "start_time": "2024-06-13T13:22:48.957559300Z"
    }
   },
   "id": "d041aa58d49e7e8d"
  },
  {
   "cell_type": "code",
   "execution_count": 67,
   "outputs": [
    {
     "data": {
      "text/plain": "tensor([4., 0., 3.,  ..., 1., 3., 2.])"
     },
     "execution_count": 67,
     "metadata": {},
     "output_type": "execute_result"
    }
   ],
   "source": [
    "Y_true_test"
   ],
   "metadata": {
    "collapsed": false,
    "ExecuteTime": {
     "end_time": "2024-06-13T13:22:55.413558400Z",
     "start_time": "2024-06-13T13:22:55.384559Z"
    }
   },
   "id": "e6a2e20c0d095c49"
  },
  {
   "cell_type": "code",
   "execution_count": 69,
   "outputs": [
    {
     "data": {
      "text/plain": "tensor(0., device='cuda:0')"
     },
     "execution_count": 69,
     "metadata": {},
     "output_type": "execute_result"
    }
   ],
   "source": [
    "Y_hat_test.max()"
   ],
   "metadata": {
    "collapsed": false,
    "ExecuteTime": {
     "end_time": "2024-06-13T13:22:58.321077200Z",
     "start_time": "2024-06-13T13:22:58.301077Z"
    }
   },
   "id": "e2d320bec22d3fd7"
  },
  {
   "cell_type": "code",
   "execution_count": null,
   "outputs": [],
   "source": [],
   "metadata": {
    "collapsed": false
   },
   "id": "93c0cbdfc12debb5"
  }
 ],
 "metadata": {
  "accelerator": "GPU",
  "colab": {
   "provenance": [],
   "gpuType": "T4",
   "toc_visible": true
  },
  "kernelspec": {
   "name": "python3",
   "language": "python",
   "display_name": "Python 3 (ipykernel)"
  },
  "language_info": {
   "codemirror_mode": {
    "name": "ipython",
    "version": 3
   },
   "file_extension": ".py",
   "mimetype": "text/x-python",
   "name": "python",
   "nbconvert_exporter": "python",
   "pygments_lexer": "ipython3",
   "version": "3.6.13"
  }
 },
 "nbformat": 4,
 "nbformat_minor": 5
}
