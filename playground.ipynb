{
 "cells": [
  {
   "cell_type": "markdown",
   "source": [
    "In this notebook I'll run different models on these data.\n",
    "\n"
   ],
   "metadata": {
    "collapsed": false
   },
   "id": "6772166d04428ab3"
  },
  {
   "cell_type": "code",
   "execution_count": 33,
   "outputs": [],
   "source": [
    "from algorithm import (\n",
    "                        CSVDataLoader,\n",
    "                        )\n",
    "import matplotlib.pyplot as plt\n",
    "import numpy as np\n",
    "from sksurv.ensemble import RandomSurvivalForest\n",
    "from sklearn.model_selection import train_test_split\n",
    "from sksurv.ensemble import RandomSurvivalForest\n",
    "from sksurv.ensemble import GradientBoostingSurvivalAnalysis\n",
    "from sksurv.metrics import integrated_brier_score"
   ],
   "metadata": {
    "collapsed": false,
    "ExecuteTime": {
     "end_time": "2024-06-22T19:58:59.535846300Z",
     "start_time": "2024-06-22T19:58:59.520849400Z"
    }
   },
   "id": "b0ddc967752bf1ab"
  },
  {
   "cell_type": "code",
   "execution_count": 39,
   "outputs": [],
   "source": [
    "dl = CSVDataLoader()\n",
    "X, Y, _, _, _, time_all, event_all = dl.get_data(num_intervals=7)\n",
    "Y = Y.sum(axis=1).cpu().numpy()\n",
    "X = X.cpu().numpy()\n",
    "dtype = [('cens', bool), ('time', int)]\n",
    "Y = np.array(list(zip(event_all.astype(bool), Y)), dtype=dtype)\n",
    "\n",
    "\n",
    "\n",
    "train_indices, test_indices = train_test_split(\n",
    "        range(len(X)), stratify=event_all, random_state=1, test_size=0.25\n",
    "    )\n",
    "X_train, X_test, y_train, y_test = X[train_indices], X[test_indices], Y[train_indices], Y[test_indices]\n",
    "\n",
    "\n"
   ],
   "metadata": {
    "collapsed": false,
    "ExecuteTime": {
     "end_time": "2024-06-22T20:03:38.264156900Z",
     "start_time": "2024-06-22T20:03:38.096157Z"
    }
   },
   "id": "cd2d54f78b65df67"
  },
  {
   "cell_type": "markdown",
   "source": [
    "# Random Survival Forest"
   ],
   "metadata": {
    "collapsed": false
   },
   "id": "125a424ebaac71e5"
  },
  {
   "cell_type": "code",
   "execution_count": 40,
   "outputs": [
    {
     "name": "stdout",
     "output_type": "stream",
     "text": [
      "Random Forest C-Index : 0.9463567924767654\n",
      "Random Forest Integrated Brier Score : 0.1475495122435265\n"
     ]
    }
   ],
   "source": [
    "\n",
    "rsf = RandomSurvivalForest(max_depth=2, random_state=1)\n",
    "rsf.fit(X_train, y_train)\n",
    "print(f\"Random Forest C-Index : {rsf.score(X_test, y_test)}\")\n",
    "survs = rsf.predict_survival_function(X_test)\n",
    "_times = np.arange(1, 7)\n",
    "preds = np.asarray([[fn(t) for t in _times] for fn in survs])\n",
    "print(f\"Random Forest Integrated Brier Score : {integrated_brier_score(Y, y_test, preds, _times)}\")"
   ],
   "metadata": {
    "collapsed": false,
    "ExecuteTime": {
     "end_time": "2024-06-22T20:03:46.902247500Z",
     "start_time": "2024-06-22T20:03:46.246734400Z"
    }
   },
   "id": "c92b3953470c3bcc"
  },
  {
   "cell_type": "code",
   "execution_count": null,
   "outputs": [],
   "source": [],
   "metadata": {
    "collapsed": false
   },
   "id": "4a5060835b581383"
  },
  {
   "cell_type": "markdown",
   "source": [
    "# Gradient Boosting Survival Analysis"
   ],
   "metadata": {
    "collapsed": false
   },
   "id": "3f9ef363d3a868f0"
  },
  {
   "cell_type": "code",
   "execution_count": 38,
   "outputs": [
    {
     "name": "stdout",
     "output_type": "stream",
     "text": [
      "Gradient Boosting C-Index : 0.9569586816591994\n",
      "Gradient Boosting Integrated Brier Score : 0.07282386448491485\n"
     ]
    }
   ],
   "source": [
    "\n",
    "est = GradientBoostingSurvivalAnalysis(n_estimators=100, learning_rate=1.0, max_depth=1, random_state=0)\n",
    "est.fit(X_train, y_train)\n",
    "print(f\"Gradient Boosting C-Index : {est.score(X_test, y_test)}\")\n",
    "survs = est.predict_survival_function(X_test)\n",
    "_times = np.arange(1, 7)\n",
    "preds = np.asarray([[fn(t) for t in _times] for fn in survs])\n",
    "print(f\"Gradient Boosting Integrated Brier Score : {integrated_brier_score(Y, y_test, preds, _times)}\")"
   ],
   "metadata": {
    "collapsed": false,
    "ExecuteTime": {
     "end_time": "2024-06-22T20:03:38.096157Z",
     "start_time": "2024-06-22T20:01:46.856701500Z"
    }
   },
   "id": "867938c7f3e67eea"
  },
  {
   "cell_type": "code",
   "execution_count": 36,
   "outputs": [
    {
     "name": "stdout",
     "output_type": "stream",
     "text": [
      "Random Forest C-Index : 0.9569586816591994\n",
      "Random Forest Brier Score : 0.07282386448491485\n"
     ]
    }
   ],
   "source": [],
   "metadata": {
    "collapsed": false,
    "ExecuteTime": {
     "end_time": "2024-06-22T20:01:02.574129700Z",
     "start_time": "2024-06-22T20:01:02.147120600Z"
    }
   },
   "id": "35d515eebe56eb52"
  },
  {
   "cell_type": "code",
   "execution_count": null,
   "outputs": [],
   "source": [],
   "metadata": {
    "collapsed": false
   },
   "id": "d4ec49ade915cc4d"
  },
  {
   "cell_type": "code",
   "execution_count": null,
   "outputs": [],
   "source": [],
   "metadata": {
    "collapsed": false
   },
   "id": "9e8c95b0cc60daa4"
  }
 ],
 "metadata": {
  "kernelspec": {
   "display_name": "Python 3",
   "language": "python",
   "name": "python3"
  },
  "language_info": {
   "codemirror_mode": {
    "name": "ipython",
    "version": 2
   },
   "file_extension": ".py",
   "mimetype": "text/x-python",
   "name": "python",
   "nbconvert_exporter": "python",
   "pygments_lexer": "ipython2",
   "version": "2.7.6"
  }
 },
 "nbformat": 4,
 "nbformat_minor": 5
}
